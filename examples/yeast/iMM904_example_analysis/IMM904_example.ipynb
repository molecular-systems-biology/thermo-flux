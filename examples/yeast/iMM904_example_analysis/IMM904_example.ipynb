{
 "cells": [
  {
   "cell_type": "code",
   "execution_count": 1,
   "metadata": {},
   "outputs": [],
   "source": [
    "### to make sure the notebook imports the correct package, append the path to sys.path so python can find the package\n",
    "import sys\n",
    "sys.path.append('/home/nathan/public_thermo_flux')\n",
    "\n",
    "from cobra.io import load_json_model\n",
    "import thermo_flux\n",
    "from thermo_flux.core.model import ThermoModel\n",
    "from equilibrator_api import  Q_\n",
    "import pandas as pd\n",
    "from thermo_flux.io import helper_load as hl\n",
    "\n",
    "import numpy as np\n",
    "\n",
    "\n",
    "import seaborn as sns\n",
    "import matplotlib.pyplot as plt\n"
   ]
  },
  {
   "cell_type": "code",
   "execution_count": 2,
   "metadata": {},
   "outputs": [],
   "source": [
    "INPUT_FOLDER= 'datafiles/'"
   ]
  },
  {
   "cell_type": "markdown",
   "metadata": {},
   "source": [
    "# In this first part, we will start from a cobra model and build a thermo-model following the steps described in the protocol "
   ]
  },
  {
   "cell_type": "markdown",
   "metadata": {},
   "source": [
    "Import (json/xml/sbml) model from BiGG"
   ]
  },
  {
   "cell_type": "code",
   "execution_count": 3,
   "metadata": {},
   "outputs": [
    {
     "name": "stdout",
     "output_type": "stream",
     "text": [
      "Set parameter Username\n",
      "Set parameter LicenseID to value 2594640\n",
      "Academic license - for non-commercial use only - expires 2025-12-03\n",
      "0.9748814206733547\n"
     ]
    },
    {
     "data": {
      "text/html": [
       "<div>\n",
       "<style scoped>\n",
       "    .dataframe tbody tr th:only-of-type {\n",
       "        vertical-align: middle;\n",
       "    }\n",
       "\n",
       "    .dataframe tbody tr th {\n",
       "        vertical-align: top;\n",
       "    }\n",
       "\n",
       "    .dataframe thead th {\n",
       "        text-align: right;\n",
       "    }\n",
       "</style>\n",
       "<table border=\"1\" class=\"dataframe\">\n",
       "  <thead>\n",
       "    <tr style=\"text-align: right;\">\n",
       "      <th></th>\n",
       "      <th>fluxes</th>\n",
       "      <th>reduced_costs</th>\n",
       "    </tr>\n",
       "  </thead>\n",
       "  <tbody>\n",
       "    <tr>\n",
       "      <th>EX_epistest_SC_e</th>\n",
       "      <td>0.0</td>\n",
       "      <td>-96.275549</td>\n",
       "    </tr>\n",
       "    <tr>\n",
       "      <th>EX_epist_e</th>\n",
       "      <td>0.0</td>\n",
       "      <td>-1.676719</td>\n",
       "    </tr>\n",
       "    <tr>\n",
       "      <th>EX_ergst_e</th>\n",
       "      <td>0.0</td>\n",
       "      <td>-1.722387</td>\n",
       "    </tr>\n",
       "    <tr>\n",
       "      <th>EX_ergstest_SC_e</th>\n",
       "      <td>0.0</td>\n",
       "      <td>-96.321217</td>\n",
       "    </tr>\n",
       "    <tr>\n",
       "      <th>EX_13BDglcn_e</th>\n",
       "      <td>0.0</td>\n",
       "      <td>-0.196130</td>\n",
       "    </tr>\n",
       "    <tr>\n",
       "      <th>...</th>\n",
       "      <td>...</td>\n",
       "      <td>...</td>\n",
       "    </tr>\n",
       "    <tr>\n",
       "      <th>EX_xyl__D_e</th>\n",
       "      <td>0.0</td>\n",
       "      <td>-0.163442</td>\n",
       "    </tr>\n",
       "    <tr>\n",
       "      <th>EX_xylt_e</th>\n",
       "      <td>0.0</td>\n",
       "      <td>-0.176421</td>\n",
       "    </tr>\n",
       "    <tr>\n",
       "      <th>EX_rib__D_e</th>\n",
       "      <td>0.0</td>\n",
       "      <td>-0.174979</td>\n",
       "    </tr>\n",
       "    <tr>\n",
       "      <th>EX_zymst_e</th>\n",
       "      <td>0.0</td>\n",
       "      <td>-1.620476</td>\n",
       "    </tr>\n",
       "    <tr>\n",
       "      <th>EX_zymstest_SC_e</th>\n",
       "      <td>0.0</td>\n",
       "      <td>-96.219306</td>\n",
       "    </tr>\n",
       "  </tbody>\n",
       "</table>\n",
       "<p>164 rows × 2 columns</p>\n",
       "</div>"
      ],
      "text/plain": [
       "                  fluxes  reduced_costs\n",
       "EX_epistest_SC_e     0.0     -96.275549\n",
       "EX_epist_e           0.0      -1.676719\n",
       "EX_ergst_e           0.0      -1.722387\n",
       "EX_ergstest_SC_e     0.0     -96.321217\n",
       "EX_13BDglcn_e        0.0      -0.196130\n",
       "...                  ...            ...\n",
       "EX_xyl__D_e          0.0      -0.163442\n",
       "EX_xylt_e            0.0      -0.176421\n",
       "EX_rib__D_e          0.0      -0.174979\n",
       "EX_zymst_e           0.0      -1.620476\n",
       "EX_zymstest_SC_e     0.0     -96.219306\n",
       "\n",
       "[164 rows x 2 columns]"
      ]
     },
     "execution_count": 3,
     "metadata": {},
     "output_type": "execute_result"
    }
   ],
   "source": [
    "from cobra.io import load_json_model\n",
    "model=load_json_model('iMM904.json')\n",
    "\n",
    "#set objective to biomass\n",
    "model.objective = model.reactions.BIOMASS_SC5_notrace\n",
    "\n",
    "model.repair()\n",
    "#we keep rxn directions or  Note that we will make all reactions reversible\n",
    "for rxn in model.reactions:\n",
    "    rxn.lower_bound=-500 if rxn.lower_bound==-999999.0 else rxn.lower_bound\n",
    "    rxn.upper_bound=500 if rxn.upper_bound==999999.0 else rxn.upper_bound\n",
    "\n",
    "#reset O2 exchange bound\n",
    "model.optimize().to_frame().loc['BIOMASS_SC5_notrace']['fluxes']\n",
    "model.reactions.EX_o2_e.bounds=(-500,0)\n",
    "\n",
    "print(model.optimize().to_frame().loc['BIOMASS_SC5_notrace']['fluxes'])\n",
    "model.optimize().to_frame().loc[[rxn.id for rxn in model.boundary]]\n",
    "\n"
   ]
  },
  {
   "cell_type": "markdown",
   "metadata": {},
   "source": [
    "Step 1 - Physical and Biochemical parameters"
   ]
  },
  {
   "cell_type": "code",
   "execution_count": 4,
   "metadata": {},
   "outputs": [
    {
     "name": "stdout",
     "output_type": "stream",
     "text": [
      "Initializing component contribution object...\n",
      "cxcalc is not installed, operating in read-only mode. A local cache may be loaded, but no compounds can be created. Install cxcalc and obtain a ChemAxon license to enable compound creation.\n",
      "Loading compounds from iMM904_compound.sqlite\n",
      "added reaction:  biomass_ce: biomass_c <=> biomass_e\n",
      "added reaction:  biomass_EX: biomass_e <=> \n",
      "added reaction:  charge_ce: charge_e <=> charge_c\n",
      "added reaction:  EX_charge: charge_e <=> \n",
      "added reaction:  charge_cm: charge_m <=> charge_c\n",
      "added reaction:  charge_cx: charge_x <=> charge_c\n",
      "added reaction:  charge_cr: charge_r <=> charge_c\n",
      "added reaction:  charge_cv: charge_v <=> charge_c\n",
      "added reaction:  charge_cg: charge_g <=> charge_c\n",
      "added reaction:  charge_cn: charge_n <=> charge_c\n"
     ]
    }
   ],
   "source": [
    "tmodel=ThermoModel(model,split_biomass=True, add_charge_exchange= True)"
   ]
  },
  {
   "cell_type": "code",
   "execution_count": 5,
   "metadata": {},
   "outputs": [],
   "source": [
    "#define the biochemical parameters of the model\n",
    "\n",
    "tmodel.phi={'ec': Q_(-0.06,'volt'), 'cm': Q_(-0.16,'volt'),'cx':Q_(0,'volt'),'cr':Q_(0,'volt'),'cv':Q_(0,'volt'),'cg':Q_(0,'volt'),'cn':Q_(0,'volt')}\n",
    "tmodel.pH={'c':Q_(7),'e':Q_(5),'m':Q_(7.4),'r':Q_(7),'v':Q_(5.5),'g':Q_(7),'x':Q_(7),'n':Q_(7)} #On the intracellular pH of baker’s yeast(r), Martinez-Munoz et al. 2008(v), Juan Llopis et al 1998 (g), 7 is default pH\n",
    "\n",
    "#change max drGcalc_drGt\n",
    "tmodel._max_drG=Q_(1e6,'kJ/mol') #max is already 1e8 shouldnt need to change\n"
   ]
  },
  {
   "cell_type": "markdown",
   "metadata": {},
   "source": [
    "Step 2 - Definition of metabolites"
   ]
  },
  {
   "cell_type": "code",
   "execution_count": 6,
   "metadata": {},
   "outputs": [],
   "source": [
    "from warnings import warn"
   ]
  },
  {
   "cell_type": "code",
   "execution_count": 7,
   "metadata": {},
   "outputs": [
    {
     "name": "stdout",
     "output_type": "stream",
     "text": [
      "[█████████████████████████████████.......] 1041/1236 pyr_e                                                                                                                                                                                                                                                      \r"
     ]
    },
    {
     "name": "stderr",
     "output_type": "stream",
     "text": [
      "WARNING: dolichol_c has inconsistent formula with eQuilibrator identified metabolite. COBRA:{'C': 15, 'H': 28, 'O': 1}, eQuilibrator:{'C': 25, 'O': 1}. Defining as unknown compound\n",
      "WARNING: dolmanp_r has inconsistent formula with eQuilibrator identified metabolite. COBRA:{'C': 21, 'H': 38, 'O': 9, 'P': 1}, eQuilibrator:{'C': 31, 'O': 9, 'P': 1}. Defining as unknown compound\n",
      "WARNING: glycogen_c has inconsistent formula with eQuilibrator identified metabolite. COBRA:{'C': 6, 'H': 10, 'O': 5}, eQuilibrator:{'O': 21, 'C': 24}. Defining as unknown compound\n",
      "WARNING: glycogen_v has inconsistent formula with eQuilibrator identified metabolite. COBRA:{'C': 6, 'H': 10, 'O': 5}, eQuilibrator:{'O': 21, 'C': 24}. Defining as unknown compound\n",
      "WARNING: mhpglu_c has inconsistent formula with eQuilibrator identified metabolite. COBRA:{'C': 25, 'H': 36, 'N': 8, 'O': 12}, eQuilibrator:{'C': 30, 'N': 9, 'O': 12}. Defining as unknown compound\n",
      "WARNING: macchitppdol_g has inconsistent formula with eQuilibrator identified metabolite. COBRA:{'C': 37, 'H': 64, 'N': 2, 'O': 22, 'P': 2}, eQuilibrator:{'C': 47, 'O': 22, 'P': 2, 'N': 2}. Defining as unknown compound\n",
      "WARNING: hpglu_c has inconsistent formula with eQuilibrator identified metabolite. COBRA:{'C': 24, 'H': 34, 'N': 8, 'O': 12}, eQuilibrator:{'N': 9, 'C': 29, 'O': 12}. Defining as unknown compound\n"
     ]
    },
    {
     "name": "stdout",
     "output_type": "stream",
     "text": [
      "[███████████████████████████████████████.] 1227/1236 biomass_c                                                                                                                                                                                                                            \r"
     ]
    },
    {
     "name": "stderr",
     "output_type": "stream",
     "text": [
      "WARNING: trdox_c has inconsistent formula with eQuilibrator identified metabolite. COBRA:{'X': 1}, eQuilibrator:{'N': 4, 'C': 10, 'S': 2, 'O': 4}. Defining as unknown compound\n",
      "WARNING: trdox_m has inconsistent formula with eQuilibrator identified metabolite. COBRA:{'X': 1}, eQuilibrator:{'N': 4, 'C': 10, 'S': 2, 'O': 4}. Defining as unknown compound\n",
      "WARNING: trdox_n has inconsistent formula with eQuilibrator identified metabolite. COBRA:{'X': 1}, eQuilibrator:{'N': 4, 'C': 10, 'S': 2, 'O': 4}. Defining as unknown compound\n",
      "WARNING: trdox_x has inconsistent formula with eQuilibrator identified metabolite. COBRA:{'X': 1}, eQuilibrator:{'N': 4, 'C': 10, 'S': 2, 'O': 4}. Defining as unknown compound\n",
      "WARNING: trdrd_c has inconsistent formula with eQuilibrator identified metabolite. COBRA:{'X': 1, 'H': 2}, eQuilibrator:{'N': 4, 'C': 10, 'S': 2, 'O': 4}. Defining as unknown compound\n",
      "WARNING: trdrd_m has inconsistent formula with eQuilibrator identified metabolite. COBRA:{'X': 1, 'H': 2}, eQuilibrator:{'N': 4, 'C': 10, 'S': 2, 'O': 4}. Defining as unknown compound\n",
      "WARNING: trdrd_n has inconsistent formula with eQuilibrator identified metabolite. COBRA:{'X': 1, 'H': 2}, eQuilibrator:{'N': 4, 'C': 10, 'S': 2, 'O': 4}. Defining as unknown compound\n",
      "WARNING: trdrd_x has inconsistent formula with eQuilibrator identified metabolite. COBRA:{'X': 1, 'H': 2}, eQuilibrator:{'N': 4, 'C': 10, 'S': 2, 'O': 4}. Defining as unknown compound\n"
     ]
    },
    {
     "name": "stdout",
     "output_type": "stream",
     "text": [
      "[████████████████████████████████████████] 1236/1236 charge_n                  \n",
      "\n"
     ]
    },
    {
     "data": {
      "text/plain": [
       "[<ThermoMetabolite biomass_c at 0x7846c9726e00>,\n",
       " <ThermoMetabolite biomass_e at 0x7846c9726890>]"
      ]
     },
     "execution_count": 7,
     "metadata": {},
     "output_type": "execute_result"
    }
   ],
   "source": [
    "tmodel.get_compounds(search = True)"
   ]
  },
  {
   "cell_type": "code",
   "execution_count": 8,
   "metadata": {},
   "outputs": [],
   "source": [
    "#define biomass parameters \n",
    "#if the biomass formula is not automatically calcualted it's important to specifiy the hydrogen atoms in biomass to ensure correct proton balancing \n",
    "tmodel.metabolites.biomass_c.formula = 'H67'\n",
    "tmodel.metabolites.biomass_e.formula = 'H67'\n",
    "\n",
    "#manually define charge of cytochrome C so electron movement is correctly calcualted\n",
    "tmodel.metabolites.focytc_m.charge = 2\n",
    "tmodel.metabolites.focytc_m.redox= True #define as redox metabolite \n",
    "tmodel.metabolites.ficytc_m.charge = 3\n",
    "tmodel.metabolites.ficytc_m.redox = True"
   ]
  },
  {
   "cell_type": "markdown",
   "metadata": {},
   "source": [
    "### Step 3 - metabolites formation energies"
   ]
  },
  {
   "cell_type": "markdown",
   "metadata": {},
   "source": [
    "When specifying the value of `dfGprime` for the biomass metabolite, we should plug in the values in units of **J/gDW**. This differs from all the other reactions in the model, for which values of **kJ/mol** are used.\n",
    "\n",
    "The reason for this discrepancy has to do with the units of the fluxes.\n",
    "\n",
    "For a normal reaction:\n",
    "$g_{diss, rxn} = \\Delta_rG \\times v = (kJ/mol) \\times (mmol/gDW/h) = (10^3 J/mol) \\times (10^{-3} mol/gDW/h) = J/gDW/h$\n",
    "\n",
    "For the biomass reaction:\n",
    "$g_{diss, bio} = \\Delta_fG_{bio} \\times \\mu = (J/gDW) \\times (gDW/gDW/h) = J/gDW/h $\n",
    "\n",
    "Since thermoflux handles all reactions the same when determining the gibbs energy dissipation rate (multiplying $v$ by $\\Delta_rG$), we have to **pretend** that the biomass formation energy has units of kJ/mol. E.g:\n",
    "`tmodel.metabolites.biomass_c.dfGprime = Q_(701.767, \"kJ/mol\")` (where 701.767 is the formation energy of E.coli biomass at cytosolic pH, in units of J/gDW)"
   ]
  },
  {
   "cell_type": "code",
   "execution_count": 9,
   "metadata": {},
   "outputs": [],
   "source": [
    "#define biomass properties\n",
    "tmodel.reactions.BIOMASS_SC5_notrace.id='biomass_c' #update biomass reaction name for convenience\n",
    "\n",
    "tmodel.metabolites.biomass_c.dfG0 = Q_(-3.04,'kJ/mol')*1000 #From Battley 1991, *1000 for mmol flux units (actual units here are J/gDW)\n",
    "tmodel.metabolites.biomass_e.dfG0 = Q_(-3.04,'kJ/mol')*1000\n"
   ]
  },
  {
   "cell_type": "markdown",
   "metadata": {},
   "source": [
    "### Step 4a - Transporters curation "
   ]
  },
  {
   "cell_type": "code",
   "execution_count": 10,
   "metadata": {},
   "outputs": [
    {
     "name": "stdout",
     "output_type": "stream",
     "text": [
      "ASPOcm ASPOcm: asp__L_c + fad_m --> fadh2_m + h_c + iasp_c {}\n",
      "ATPS ATPS: atp_c + h2o_c --> adp_c + h_e + pi_c {}\n",
      "DHORD4i DHORD4i: dhor__S_c + q6_m --> orot_c + q6h2_m {}\n",
      "DOLPMTcer DOLPMTcer: dolp_c + gdpmann_c --> dolmanp_r + gdp_c {}\n",
      "DXHPScm DXHPScm: h2o_c + q6_m + spmd_c --> 13dampp_c + 4abutn_c + q6h2_m {}\n",
      "D_LACDcm D_LACDcm: 2.0 ficytc_m + lac__D_c --> 2.0 focytc_m + pyr_c {}\n",
      "FDNG FDNG: for_c + h_c + q6_m --> co2_c + q6h2_m {}\n",
      "FRDcm FRDcm: fadh2_m + fum_c --> fad_m + succ_c {}\n",
      "L_LACD2cm L_LACD2cm: 2.0 ficytc_m + lac__L_c --> 2.0 focytc_m + pyr_c {}\n",
      "NADH2_u6cm NADH2_u6cm: h_c + nadh_c + q6_m --> nad_c + q6h2_m {}\n"
     ]
    }
   ],
   "source": [
    "#idenfity transporters where the transported metabolite is empty\n",
    "#these could either be redox reactions or proton pumps just moving electrons (charge) and protons \n",
    "#or they could be transporters with chemcial transformation during the transport process\n",
    "for reaction in tmodel.reactions:\n",
    "    if len(reaction.compartments) > 1:\n",
    "        if thermo_flux.tools.drg_tools.calc_transported_mets(reaction) == {}:\n",
    "            print(reaction.id, reaction, thermo_flux.tools.drg_tools.calc_transported_mets(reaction))\n"
   ]
  },
  {
   "cell_type": "code",
   "execution_count": null,
   "metadata": {},
   "outputs": [
    {
     "name": "stdout",
     "output_type": "stream",
     "text": [
      "added reaction:  H_cm: h_m <=> h_c\n",
      "added reaction:  H_cx: h_x <=> h_c\n",
      "added reaction:  H_cr: h_r <=> h_c\n",
      "added reaction:  H_cv: h_v <=> h_c\n",
      "added reaction:  H_cg: h_g <=> h_c\n",
      "added reaction:  H_cn: h_n <=> h_c\n"
     ]
    }
   ],
   "source": [
    "## add proton transport reactions ##the directions are constrained by pH gradients\n",
    "\n",
    "tmodel.add_proton_exchange()"
   ]
  },
  {
   "cell_type": "code",
   "execution_count": null,
   "metadata": {},
   "outputs": [
    {
     "name": "stdout",
     "output_type": "stream",
     "text": [
      "PIt2m: charge_m + 0.83 h_c + pi_c <=> charge_c + h_m + pi_m\n",
      "PIt2m0: 1.83 h_c + pi_c <=> 2.0 h_m + pi_m\n",
      "PIt2v: charge_v + 0.83 h_c + pi_c <=> charge_c + 0.14 h_v + pi_v\n",
      "PIt2v0: 1.83 h_c + pi_c <=> 1.14 h_v + pi_v\n"
     ]
    }
   ],
   "source": [
    "## add transporter variants for all phosphate transporters\n",
    "\n",
    "for rxn in [r for r in tmodel.reactions if len(r.compartments) > 1 and any(m.id.split('_')[0] == 'pi' for m in r.metabolites)\n",
    "            and not any(m.id.split('_')[0] == 'atp' for m in r.metabolites )]:\n",
    "    new_reactions = thermo_flux.tools.drg_tools.add_transporter_varaints(rxn,balance_charge=True,add_charge_neutral = True, round_dp=2)\n",
    "    if new_reactions is not None:\n",
    "        if len(new_reactions) > 0:\n",
    "            for new_reaction in new_reactions:\n",
    "                print(new_reaction)"
   ]
  },
  {
   "cell_type": "markdown",
   "metadata": {},
   "source": [
    "### Step 5 - charge and proton balancing"
   ]
  },
  {
   "cell_type": "code",
   "execution_count": null,
   "metadata": {},
   "outputs": [
    {
     "name": "stderr",
     "output_type": "stream",
     "text": [
      "WARNING: ATPS3v is not balanced and could not be automatically balanced, please check reaction stoichiometry or define reaction.transported_h\n",
      "WARNING: ASPOcm is a transporter but the transported metabolites could not be automatically calculated and no transported metabolites were manually defined, please check reaction stoichiometry or define reaction.transported_mets\n",
      "WARNING: ATPS is a transporter but the transported metabolites could not be automatically calculated and no transported metabolites were manually defined, please check reaction stoichiometry or define reaction.transported_mets\n",
      "WARNING: DHORD4i is a transporter but the transported metabolites could not be automatically calculated and no transported metabolites were manually defined, please check reaction stoichiometry or define reaction.transported_mets\n",
      "WARNING: DXHPScm is a transporter but the transported metabolites could not be automatically calculated and no transported metabolites were manually defined, please check reaction stoichiometry or define reaction.transported_mets\n",
      "WARNING: D_LACDcm is a transporter but the transported metabolites could not be automatically calculated and no transported metabolites were manually defined, please check reaction stoichiometry or define reaction.transported_mets\n",
      "WARNING: FDNG is a transporter but the transported metabolites could not be automatically calculated and no transported metabolites were manually defined, please check reaction stoichiometry or define reaction.transported_mets\n",
      "WARNING: FRDcm is a transporter but the transported metabolites could not be automatically calculated and no transported metabolites were manually defined, please check reaction stoichiometry or define reaction.transported_mets\n",
      "WARNING: L_LACD2cm is a transporter but the transported metabolites could not be automatically calculated and no transported metabolites were manually defined, please check reaction stoichiometry or define reaction.transported_mets\n",
      "WARNING: NADH2_u6cm is a transporter but the transported metabolites could not be automatically calculated and no transported metabolites were manually defined, please check reaction stoichiometry or define reaction.transported_mets\n"
     ]
    }
   ],
   "source": [
    "for rxn in tmodel.reactions:\n",
    "    thermo_flux.tools.drg_tools.reaction_balance(rxn, balance_charge=True, balance_mg=False)"
   ]
  },
  {
   "cell_type": "markdown",
   "metadata": {},
   "source": [
    "manually curate all reactions that gave a warning"
   ]
  },
  {
   "cell_type": "code",
   "execution_count": null,
   "metadata": {},
   "outputs": [],
   "source": [
    "#ATPS3v is vacuolar ATP synthase transporting three protons per ATP\n",
    "tmodel.reactions.ATPS3v.transported_h = {'v': 3.0, 'c': -3.0}\n",
    "thermo_flux.tools.drg_tools.reaction_balance(tmodel.reactions.ATPS3v, balance_charge=True, balance_mg=False)\n"
   ]
  },
  {
   "cell_type": "code",
   "execution_count": null,
   "metadata": {},
   "outputs": [],
   "source": [
    "tmodel.reactions.ASPOcm.transported_h= {'m': 2.0, 'c': -2.0}\n",
    "tmodel.reactions.ASPOcm.transported_charge= {'m': -2.0, 'c': 2.0}\n",
    "thermo_flux.tools.drg_tools.reaction_balance(tmodel.reactions.ASPOcm, balance_charge=True, balance_mg=False)"
   ]
  },
  {
   "cell_type": "code",
   "execution_count": null,
   "metadata": {},
   "outputs": [],
   "source": [
    "tmodel.reactions.ATPS.transported_h={'c':-1,'e':1}\n",
    "thermo_flux.tools.drg_tools.reaction_balance(tmodel.reactions.ATPS, balance_charge=True, balance_mg=False)"
   ]
  },
  {
   "cell_type": "code",
   "execution_count": null,
   "metadata": {},
   "outputs": [],
   "source": [
    "#DHORD4i\n",
    "tmodel.reactions.DHORD4i.transported_h = {'m': 2.0, 'c': -2.0}\n",
    "tmodel.reactions.DHORD4i.transported_charge= {'m': -2.0, 'c': 2.0}\n",
    "thermo_flux.tools.drg_tools.reaction_balance(tmodel.reactions.DHORD4i, balance_charge=True, balance_mg=False)"
   ]
  },
  {
   "cell_type": "code",
   "execution_count": null,
   "metadata": {},
   "outputs": [
    {
     "data": {
      "text/plain": [
       "{'m': 2.0, 'c': -2.0}"
      ]
     },
     "metadata": {},
     "output_type": "display_data"
    }
   ],
   "source": [
    "#DXHPScm is fine"
   ]
  },
  {
   "cell_type": "code",
   "execution_count": null,
   "metadata": {},
   "outputs": [],
   "source": [
    "# D_LACDcm\n",
    "tmodel.reactions.D_LACDcm.transported_charge= {'m': 2.0, 'c': -2.0}\n",
    "thermo_flux.tools.drg_tools.reaction_balance(tmodel.reactions.D_LACDcm, balance_charge=True, balance_mg=False)"
   ]
  },
  {
   "cell_type": "code",
   "execution_count": null,
   "metadata": {},
   "outputs": [],
   "source": [
    "##FDNG\n",
    "tmodel.reactions.FDNG.transported_h = {'m': 2.0, 'c': -2.0}\n",
    "tmodel.reactions.FDNG.transported_charge= {'m': -2.0, 'c': 2.0}\n",
    "thermo_flux.tools.drg_tools.reaction_balance(tmodel.reactions.FDNG, balance_charge=True, balance_mg=False)"
   ]
  },
  {
   "cell_type": "code",
   "execution_count": null,
   "metadata": {},
   "outputs": [],
   "source": [
    "#FRDcm ## opposite then others h transport rxn we did until now\n",
    "tmodel.reactions.FRDcm.transported_h = {'m': -2.0, 'c': 2.0}\n",
    "tmodel.reactions.FRDcm.transported_charge= {'m': 2.0, 'c': -2.0}\n",
    "thermo_flux.tools.drg_tools.reaction_balance(tmodel.reactions.FRDcm, balance_charge=True, balance_mg=False)"
   ]
  },
  {
   "cell_type": "code",
   "execution_count": null,
   "metadata": {},
   "outputs": [],
   "source": [
    "# L_LACD2cm\n",
    "tmodel.reactions.L_LACD2cm.transported_charge= {'m': 2.0, 'c': -2.0}\n",
    "thermo_flux.tools.drg_tools.reaction_balance(tmodel.reactions.L_LACD2cm, balance_charge=True, balance_mg=False)"
   ]
  },
  {
   "cell_type": "code",
   "execution_count": null,
   "metadata": {},
   "outputs": [],
   "source": [
    "# NADH2_u6cm\n",
    "tmodel.reactions.NADH2_u6cm.transported_h = {'m': 2.0, 'c': -2.0}\n",
    "tmodel.reactions.NADH2_u6cm.transported_charge= {'m': -2.0, 'c': 2.0}\n",
    "thermo_flux.tools.drg_tools.reaction_balance(tmodel.reactions.NADH2_u6cm, balance_charge=True, balance_mg=False)"
   ]
  },
  {
   "cell_type": "code",
   "execution_count": 11,
   "metadata": {},
   "outputs": [
    {
     "data": {
      "text/html": [
       "\n",
       "        <table>\n",
       "            <tr>\n",
       "                <td><strong>Reaction identifier</strong></td><td>ATPS3v</td>\n",
       "            </tr><tr>\n",
       "                <td><strong>Name</strong></td><td>ATP synthase vacuole</td>\n",
       "            </tr><tr>\n",
       "                <td><strong>Memory address</strong></td>\n",
       "                <td>0x7846cb4cd5d0</td>\n",
       "            </tr><tr>\n",
       "                <td><strong>Stoichiometry</strong></td>\n",
       "                <td>\n",
       "                    <p style='text-align:right'>adp_v + 3.0 charge_c + 3.0 h_c + pi_v --> atp_v + 3.0 charge_v + h2o_v + 3.021815 h_v</p>\n",
       "                    <p style='text-align:right'>ADP C10H12N5O10P2 + 3.0 charge + 3.0 H+ + Phosphate --> ATP C10H12N5O13P3 + 3.0 charge + H2O H2O + 3.021815 H+</p>\n",
       "                </td>\n",
       "            </tr><tr>\n",
       "                <td><strong>GPR</strong></td><td>YBR127C and YDL185W and YEL027W and YEL051W and YGR020C and YHR026W and YHR039C_A and YKL080W and...</td>\n",
       "            </tr><tr>\n",
       "                <td><strong>Lower bound</strong></td><td>0.0</td>\n",
       "            </tr><tr>\n",
       "                <td><strong>Upper bound</strong></td><td>500</td>\n",
       "            </tr>\n",
       "        </table>\n",
       "        "
      ],
      "text/plain": [
       "<ThermoReaction ATPS3v at 0x7846cb4cd5d0>"
      ]
     },
     "execution_count": 11,
     "metadata": {},
     "output_type": "execute_result"
    }
   ],
   "source": [
    "##ATPS3v\n",
    "tmodel.reactions.ATPS3v.transported_h = {'v': 3.0, 'c': -3.0}\n",
    "thermo_flux.tools.drg_tools.reaction_balance(tmodel.reactions.ATPS3v, balance_charge=True, balance_mg=False)\n",
    "tmodel.reactions.ATPS3v"
   ]
  },
  {
   "cell_type": "code",
   "execution_count": 12,
   "metadata": {},
   "outputs": [],
   "source": [
    "#DOLPMTcer involved chemcial transformation of dolp. We assume transport of dolmanp for thermodynamic calcualtion\n",
    "tmodel.reactions.DOLPMTcer.transported_mets = {tmodel.metabolites.dolmanp_r: -1}\n",
    "thermo_flux.tools.drg_tools.reaction_balance(tmodel.reactions.DOLPMTcer, balance_charge=True, balance_mg=False)\n",
    "\n"
   ]
  },
  {
   "cell_type": "code",
   "execution_count": 14,
   "metadata": {},
   "outputs": [],
   "source": [
    "#change max flux to 500 for all reactions\n",
    "\n",
    "tmodel.reactions.get_by_id(\"biomass_EX\").bounds = (0,500)\n",
    "tmodel.reactions.get_by_id(\"biomass_c\").bounds = (0,500)\n",
    "tmodel.reactions.get_by_id(\"biomass_ce\").bounds = (0,500)\n",
    "\n",
    "\n",
    "for rxn in tmodel.reactions:\n",
    "    rxn.lower_bound = -500 if rxn.lower_bound == -1000 else rxn.lower_bound\n",
    "    rxn.upper_bound = 500 if rxn.upper_bound == 1000 else rxn.upper_bound\n",
    "tmodel.objective = tmodel.reactions.biomass_EX"
   ]
  },
  {
   "cell_type": "markdown",
   "metadata": {},
   "source": [
    "### Step 6 - Calculation of Gibbs energy of reactions\n",
    "Add thermodynamic constraints and parameters"
   ]
  },
  {
   "cell_type": "code",
   "execution_count": 15,
   "metadata": {},
   "outputs": [
    {
     "name": "stdout",
     "output_type": "stream",
     "text": [
      "Identifying compounds...\n",
      "[██████████████████████████████████......] 1076/1244 thmmp_c                                                                                                                                                                                                                                                    \r"
     ]
    },
    {
     "name": "stderr",
     "output_type": "stream",
     "text": [
      "WARNING: dolichol_c has inconsistent formula with eQuilibrator identified metabolite. COBRA:{'C': 15, 'H': 28, 'O': 1}, eQuilibrator:{'C': 25, 'O': 1}. Defining as unknown compound\n",
      "WARNING: dolmanp_r has inconsistent formula with eQuilibrator identified metabolite. COBRA:{'C': 21, 'H': 38, 'O': 9, 'P': 1}, eQuilibrator:{'C': 31, 'O': 9, 'P': 1}. Defining as unknown compound\n",
      "WARNING: glycogen_c has inconsistent formula with eQuilibrator identified metabolite. COBRA:{'C': 6, 'H': 10, 'O': 5}, eQuilibrator:{'O': 21, 'C': 24}. Defining as unknown compound\n",
      "WARNING: glycogen_v has inconsistent formula with eQuilibrator identified metabolite. COBRA:{'C': 6, 'H': 10, 'O': 5}, eQuilibrator:{'O': 21, 'C': 24}. Defining as unknown compound\n",
      "WARNING: mhpglu_c has inconsistent formula with eQuilibrator identified metabolite. COBRA:{'C': 25, 'H': 36, 'N': 8, 'O': 12}, eQuilibrator:{'C': 30, 'N': 9, 'O': 12}. Defining as unknown compound\n",
      "WARNING: macchitppdol_g has inconsistent formula with eQuilibrator identified metabolite. COBRA:{'C': 37, 'H': 64, 'N': 2, 'O': 22, 'P': 2}, eQuilibrator:{'C': 47, 'O': 22, 'P': 2, 'N': 2}. Defining as unknown compound\n",
      "WARNING: hpglu_c has inconsistent formula with eQuilibrator identified metabolite. COBRA:{'C': 24, 'H': 34, 'N': 8, 'O': 12}, eQuilibrator:{'N': 9, 'C': 29, 'O': 12}. Defining as unknown compound\n"
     ]
    },
    {
     "name": "stdout",
     "output_type": "stream",
     "text": [
      "[████████████████████████████████████████] 1244/1244 Mg_n                                                                                                                                             \n",
      "\n",
      "Estimating dfG0'...\n"
     ]
    },
    {
     "name": "stderr",
     "output_type": "stream",
     "text": [
      "WARNING: trdox_c has inconsistent formula with eQuilibrator identified metabolite. COBRA:{'X': 1}, eQuilibrator:{'N': 4, 'C': 10, 'S': 2, 'O': 4}. Defining as unknown compound\n",
      "WARNING: trdox_m has inconsistent formula with eQuilibrator identified metabolite. COBRA:{'X': 1}, eQuilibrator:{'N': 4, 'C': 10, 'S': 2, 'O': 4}. Defining as unknown compound\n",
      "WARNING: trdox_n has inconsistent formula with eQuilibrator identified metabolite. COBRA:{'X': 1}, eQuilibrator:{'N': 4, 'C': 10, 'S': 2, 'O': 4}. Defining as unknown compound\n",
      "WARNING: trdox_x has inconsistent formula with eQuilibrator identified metabolite. COBRA:{'X': 1}, eQuilibrator:{'N': 4, 'C': 10, 'S': 2, 'O': 4}. Defining as unknown compound\n",
      "WARNING: trdrd_c has inconsistent formula with eQuilibrator identified metabolite. COBRA:{'X': 1, 'H': 2}, eQuilibrator:{'N': 4, 'C': 10, 'S': 2, 'O': 4}. Defining as unknown compound\n",
      "WARNING: trdrd_m has inconsistent formula with eQuilibrator identified metabolite. COBRA:{'X': 1, 'H': 2}, eQuilibrator:{'N': 4, 'C': 10, 'S': 2, 'O': 4}. Defining as unknown compound\n",
      "WARNING: trdrd_n has inconsistent formula with eQuilibrator identified metabolite. COBRA:{'X': 1, 'H': 2}, eQuilibrator:{'N': 4, 'C': 10, 'S': 2, 'O': 4}. Defining as unknown compound\n",
      "WARNING: trdrd_x has inconsistent formula with eQuilibrator identified metabolite. COBRA:{'X': 1, 'H': 2}, eQuilibrator:{'N': 4, 'C': 10, 'S': 2, 'O': 4}. Defining as unknown compound\n"
     ]
    },
    {
     "name": "stdout",
     "output_type": "stream",
     "text": [
      "ficytc_m 0 kilojoule / mole\n",
      "focytc_m 0 kilojoule / mole\n",
      "biomass_c 0 kilojoule / mole\n",
      "biomass_e 0 kilojoule / mole\n",
      "[████████████████████████████████████████] 1244/1244 Mg_n                                                                                                                                                                                                                                                                                                                                                                                                                                                                                                                                                                      \n",
      "\n",
      "Estimating drG0'...\n",
      "[███████████.............................] 454/1587 D_LACtmm                                                                                                                                                                                                                                                                                                                                                                            \r"
     ]
    },
    {
     "name": "stderr",
     "output_type": "stream",
     "text": [
      "WARNING: DHORD4i is a transporter but no transported metabolites could be automatically identified. Please update the reaction.transported_mets\n",
      "WARNING: DXHPScm is a transporter but no transported metabolites could be automatically identified. Please update the reaction.transported_mets\n"
     ]
    },
    {
     "name": "stdout",
     "output_type": "stream",
     "text": [
      "[████████████████████████................] 963/1587 IBUTOHtm                                                                                                                                                                                                                                                                                                                                                                                                       \r"
     ]
    },
    {
     "name": "stderr",
     "output_type": "stream",
     "text": [
      "WARNING: FDNG is a transporter but no transported metabolites could be automatically identified. Please update the reaction.transported_mets\n"
     ]
    },
    {
     "name": "stdout",
     "output_type": "stream",
     "text": [
      "[██████████████████████████████..........] 1198/1587 OAAt                                                                                                                                                                                                    \r"
     ]
    },
    {
     "name": "stderr",
     "output_type": "stream",
     "text": [
      "WARNING: NADH2_u6cm is a transporter but no transported metabolites could be automatically identified. Please update the reaction.transported_mets\n"
     ]
    },
    {
     "name": "stdout",
     "output_type": "stream",
     "text": [
      "[████████████████████████████████████████] 1587/1587 charge_cn                                                                                                                                                                                                          \n",
      "\n"
     ]
    },
    {
     "data": {
      "text/html": [
       "<div>\n",
       "<style scoped>\n",
       "    .dataframe tbody tr th:only-of-type {\n",
       "        vertical-align: middle;\n",
       "    }\n",
       "\n",
       "    .dataframe tbody tr th {\n",
       "        vertical-align: top;\n",
       "    }\n",
       "\n",
       "    .dataframe thead th {\n",
       "        text-align: right;\n",
       "    }\n",
       "</style>\n",
       "<table border=\"1\" class=\"dataframe\">\n",
       "  <thead>\n",
       "    <tr style=\"text-align: right;\">\n",
       "      <th></th>\n",
       "      <th>stoichiometry</th>\n",
       "      <th>balanced</th>\n",
       "      <th>transporter</th>\n",
       "      <th>transported_mets</th>\n",
       "      <th>transported_h</th>\n",
       "      <th>transported_charge</th>\n",
       "      <th>priority</th>\n",
       "    </tr>\n",
       "  </thead>\n",
       "  <tbody>\n",
       "    <tr>\n",
       "      <th>DHORD4i</th>\n",
       "      <td>dhor__S_c + q6_m --&gt; orot_c + q6h2_m</td>\n",
       "      <td>True</td>\n",
       "      <td>True</td>\n",
       "      <td>None</td>\n",
       "      <td>{'m': 2.0, 'c': -2.0}</td>\n",
       "      <td>None</td>\n",
       "      <td>True</td>\n",
       "    </tr>\n",
       "    <tr>\n",
       "      <th>L_LACD2cm</th>\n",
       "      <td>2.0 charge_m + 2.0 ficytc_m + lac__L_c --&gt; 2.0...</td>\n",
       "      <td>True</td>\n",
       "      <td>True</td>\n",
       "      <td>None</td>\n",
       "      <td>{'m': 0, 'c': 0}</td>\n",
       "      <td>None</td>\n",
       "      <td>True</td>\n",
       "    </tr>\n",
       "    <tr>\n",
       "      <th>ASPOcm</th>\n",
       "      <td>asp__L_c + 2.0 charge_m + fad_m + 3.0 h_m --&gt; ...</td>\n",
       "      <td>True</td>\n",
       "      <td>True</td>\n",
       "      <td>None</td>\n",
       "      <td>{'m': 0, 'c': 0}</td>\n",
       "      <td>None</td>\n",
       "      <td>True</td>\n",
       "    </tr>\n",
       "    <tr>\n",
       "      <th>ATPS</th>\n",
       "      <td>atp_c + charge_c + h2o_c + 0.259271 h_c --&gt; ad...</td>\n",
       "      <td>True</td>\n",
       "      <td>True</td>\n",
       "      <td>None</td>\n",
       "      <td>{'c': -1.0, 'e': 1.0}</td>\n",
       "      <td>None</td>\n",
       "      <td>True</td>\n",
       "    </tr>\n",
       "    <tr>\n",
       "      <th>D_LACDcm</th>\n",
       "      <td>2.0 charge_m + 2.0 ficytc_m + lac__D_c --&gt; 2.0...</td>\n",
       "      <td>True</td>\n",
       "      <td>True</td>\n",
       "      <td>None</td>\n",
       "      <td>{'m': 0, 'c': 0}</td>\n",
       "      <td>None</td>\n",
       "      <td>True</td>\n",
       "    </tr>\n",
       "    <tr>\n",
       "      <th>...</th>\n",
       "      <td>...</td>\n",
       "      <td>...</td>\n",
       "      <td>...</td>\n",
       "      <td>...</td>\n",
       "      <td>...</td>\n",
       "      <td>...</td>\n",
       "      <td>...</td>\n",
       "    </tr>\n",
       "    <tr>\n",
       "      <th>EX_h_e</th>\n",
       "      <td>h_e &lt;=&gt;</td>\n",
       "      <td>False</td>\n",
       "      <td>False</td>\n",
       "      <td>None</td>\n",
       "      <td>None</td>\n",
       "      <td>None</td>\n",
       "      <td>False</td>\n",
       "    </tr>\n",
       "    <tr>\n",
       "      <th>AASAD1</th>\n",
       "      <td>L2aadp_c + atp_c + 0.33412396207684214 h_c + n...</td>\n",
       "      <td>True</td>\n",
       "      <td>False</td>\n",
       "      <td>None</td>\n",
       "      <td>{}</td>\n",
       "      <td>None</td>\n",
       "      <td>False</td>\n",
       "    </tr>\n",
       "    <tr>\n",
       "      <th>EX_h2o_e</th>\n",
       "      <td>h2o_e &lt;=&gt;</td>\n",
       "      <td>False</td>\n",
       "      <td>False</td>\n",
       "      <td>None</td>\n",
       "      <td>None</td>\n",
       "      <td>None</td>\n",
       "      <td>False</td>\n",
       "    </tr>\n",
       "    <tr>\n",
       "      <th>EX_arg__L_e</th>\n",
       "      <td>arg__L_e --&gt;</td>\n",
       "      <td>False</td>\n",
       "      <td>False</td>\n",
       "      <td>None</td>\n",
       "      <td>None</td>\n",
       "      <td>None</td>\n",
       "      <td>False</td>\n",
       "    </tr>\n",
       "    <tr>\n",
       "      <th>charge_cn</th>\n",
       "      <td>charge_n &lt;=&gt; charge_c</td>\n",
       "      <td>True</td>\n",
       "      <td>True</td>\n",
       "      <td>None</td>\n",
       "      <td>{'n': 0, 'c': 0}</td>\n",
       "      <td>{'n': -1, 'c': 1}</td>\n",
       "      <td>False</td>\n",
       "    </tr>\n",
       "  </tbody>\n",
       "</table>\n",
       "<p>1587 rows × 7 columns</p>\n",
       "</div>"
      ],
      "text/plain": [
       "                                                 stoichiometry  balanced  \\\n",
       "DHORD4i                   dhor__S_c + q6_m --> orot_c + q6h2_m      True   \n",
       "L_LACD2cm    2.0 charge_m + 2.0 ficytc_m + lac__L_c --> 2.0...      True   \n",
       "ASPOcm       asp__L_c + 2.0 charge_m + fad_m + 3.0 h_m --> ...      True   \n",
       "ATPS         atp_c + charge_c + h2o_c + 0.259271 h_c --> ad...      True   \n",
       "D_LACDcm     2.0 charge_m + 2.0 ficytc_m + lac__D_c --> 2.0...      True   \n",
       "...                                                        ...       ...   \n",
       "EX_h_e                                                h_e <=>      False   \n",
       "AASAD1       L2aadp_c + atp_c + 0.33412396207684214 h_c + n...      True   \n",
       "EX_h2o_e                                            h2o_e <=>      False   \n",
       "EX_arg__L_e                                      arg__L_e -->      False   \n",
       "charge_cn                                charge_n <=> charge_c      True   \n",
       "\n",
       "             transporter transported_mets          transported_h  \\\n",
       "DHORD4i             True             None  {'m': 2.0, 'c': -2.0}   \n",
       "L_LACD2cm           True             None       {'m': 0, 'c': 0}   \n",
       "ASPOcm              True             None       {'m': 0, 'c': 0}   \n",
       "ATPS                True             None  {'c': -1.0, 'e': 1.0}   \n",
       "D_LACDcm            True             None       {'m': 0, 'c': 0}   \n",
       "...                  ...              ...                    ...   \n",
       "EX_h_e             False             None                   None   \n",
       "AASAD1             False             None                     {}   \n",
       "EX_h2o_e           False             None                   None   \n",
       "EX_arg__L_e        False             None                   None   \n",
       "charge_cn           True             None       {'n': 0, 'c': 0}   \n",
       "\n",
       "            transported_charge  priority  \n",
       "DHORD4i                   None      True  \n",
       "L_LACD2cm                 None      True  \n",
       "ASPOcm                    None      True  \n",
       "ATPS                      None      True  \n",
       "D_LACDcm                  None      True  \n",
       "...                        ...       ...  \n",
       "EX_h_e                    None     False  \n",
       "AASAD1                    None     False  \n",
       "EX_h2o_e                  None     False  \n",
       "EX_arg__L_e               None     False  \n",
       "charge_cn    {'n': -1, 'c': 1}     False  \n",
       "\n",
       "[1587 rows x 7 columns]"
      ]
     },
     "execution_count": 15,
     "metadata": {},
     "output_type": "execute_result"
    }
   ],
   "source": [
    "### retrieve dfG0 values from equilibrator and add drG0 to the reactions in the model\n",
    "tmodel.update_thermo_info(fit_unknown_dfG0=False,search=True,report=True)\n"
   ]
  },
  {
   "cell_type": "markdown",
   "metadata": {},
   "source": [
    "### Step 7 - Establishment of the thermodynamic-stoichiometric solution space\n",
    "Note : In our curation of the iMM904 model, due to the limited information available for the membrane potential of organelles, we chose to allow the free leakage of ions (charges) across the membrane. \n",
    "Allowing free movement of charges between compartments prevents over-constraining the model to potentially incorrect information.\n",
    "For more detailed analysis of charge transport or models where more information is available on membrane physiology then a constraint on the second law could be added for these charge transport reactions.  "
   ]
  },
  {
   "cell_type": "code",
   "execution_count": 16,
   "metadata": {},
   "outputs": [
    {
     "name": "stdout",
     "output_type": "stream",
     "text": [
      "charge_ce False\n",
      "charge_ce True\n",
      "charge_cm False\n",
      "charge_cm True\n",
      "charge_cx False\n",
      "charge_cx True\n",
      "charge_cr False\n",
      "charge_cr True\n",
      "charge_cv False\n",
      "charge_cv True\n",
      "charge_cg False\n",
      "charge_cg True\n",
      "charge_cn False\n",
      "charge_cn True\n"
     ]
    }
   ],
   "source": [
    "#ignore snd for charge - simplification as we don't have accurate values for electrical potential in all the compartments\n",
    "for rxn in tmodel.reactions:\n",
    "    if 'charge' in rxn.id and 'EX' not in rxn.id:#charge reactions are constrained by 2nd law \n",
    "        print(rxn.id,rxn.ignore_snd)\n",
    "        rxn.ignore_snd=True\n",
    "        print(rxn.id,rxn.ignore_snd)\n",
    "        \n",
    "\n",
    "#tmodel.reactions.EX_charge.ignore_snd=True"
   ]
  },
  {
   "cell_type": "code",
   "execution_count": 17,
   "metadata": {},
   "outputs": [],
   "source": [
    "# Store the indices of all reactions -  it allows to easily link reaction id and reaction indexes\n",
    "\n",
    "map_rxn_id = {rxn.id: index for index, rxn in enumerate(tmodel.reactions)}\n",
    "\n",
    "map_met_id = {met.id: index for index, met in enumerate(tmodel.metabolites)}\n",
    "\n",
    "#good practice will be to save them in a separate csv file"
   ]
  },
  {
   "cell_type": "code",
   "execution_count": 18,
   "metadata": {},
   "outputs": [
    {
     "name": "stdout",
     "output_type": "stream",
     "text": [
      "Set parameter NonConvex to value 2\n",
      "Set parameter TimeLimit to value 10\n"
     ]
    }
   ],
   "source": [
    "# add the TFBA variables to the model\n",
    "tmodel.m = None #reset the gurobi model object in case you're re-running this cell \n",
    "tmodel.add_TFBA_variables(gdiss_constraint = True, sigmac_limit = (4000/tmodel.T.m), error_type = 'covariance',qnorm='sep_norm',alpha=0.95)\n",
    "tmodel.m.update()"
   ]
  },
  {
   "cell_type": "code",
   "execution_count": 19,
   "metadata": {},
   "outputs": [],
   "source": [
    "# # thermo_flux.solver.gurobi.model_start(tmodel,'fixed_dir_firstTFBA_ENS_8.sol', ignore_vars=['all'],fix_vars=['qm','fluxes'],fix='start')\n",
    "# thermo_flux.solver.gurobi.model_start(tmodel,'yeast_regression_d8.sol', ignore_vars=['all'],fix_vars=['qm'],fix='bound')\n"
   ]
  },
  {
   "cell_type": "code",
   "execution_count": 20,
   "metadata": {},
   "outputs": [
    {
     "name": "stdout",
     "output_type": "stream",
     "text": [
      "Set parameter IntFeasTol to value 1e-06\n",
      "Set parameter TimeLimit to value 60\n",
      "Gurobi Optimizer version 11.0.3 build v11.0.3rc0 (linux64 - \"Ubuntu 24.04.3 LTS\")\n",
      "\n",
      "CPU model: 12th Gen Intel(R) Core(TM) i7-1260P, instruction set [SSE2|AVX|AVX2]\n",
      "Thread count: 16 physical cores, 16 logical processors, using up to 16 threads\n",
      "\n",
      "Optimize a model with 16175 rows, 13500 columns and 351524 nonzeros\n",
      "Model fingerprint: 0x45fb3c86\n",
      "Model has 166 quadratic constraints\n",
      "Model has 489 general constraints\n",
      "Variable types: 11913 continuous, 1587 integer (1587 binary)\n",
      "Coefficient statistics:\n",
      "  Matrix range     [6e-06, 1e+06]\n",
      "  QMatrix range    [1e+00, 1e+00]\n",
      "  QLMatrix range   [1e+00, 1e+00]\n",
      "  Objective range  [1e+00, 1e+00]\n",
      "  Bounds range     [1e+00, 1e+06]\n",
      "  RHS range        [7e-15, 1e+06]\n",
      "Presolve removed 9773 rows and 7372 columns\n",
      "Presolve time: 0.71s\n",
      "Presolved: 6750 rows, 6128 columns, 290554 nonzeros\n",
      "Presolved model has 87 bilinear constraint(s)\n",
      "\n",
      "Solving non-convex MIQCP\n",
      "\n",
      "Variable types: 4823 continuous, 1305 integer (1305 binary)\n",
      "\n",
      "Root relaxation: objective -0.000000e+00, 4526 iterations, 0.26 seconds (0.39 work units)\n",
      "\n",
      "    Nodes    |    Current Node    |     Objective Bounds      |     Work\n",
      " Expl Unexpl |  Obj  Depth IntInf | Incumbent    BestBd   Gap | It/Node Time\n",
      "\n",
      "     0     0   -0.00000    0   23          -   -0.00000      -     -    1s\n",
      "     0     0   -0.00000    0   38          -   -0.00000      -     -    2s\n",
      "     0     0   -0.00000    0   38          -   -0.00000      -     -    2s\n",
      "     0     0   -0.00000    0    3          -   -0.00000      -     -    3s\n",
      "     0     0   -0.00000    0    5          -   -0.00000      -     -    3s\n",
      "     0     0   -0.00000    0    5          -   -0.00000      -     -    3s\n",
      "H    0     0                      -0.0000000   -0.00000  0.00%     -    3s\n",
      "\n",
      "Cutting planes:\n",
      "  Learned: 18\n",
      "  Gomory: 2\n",
      "  Implied bound: 2\n",
      "  Flow cover: 4\n",
      "  RLT: 11\n",
      "\n",
      "Explored 1 nodes (8245 simplex iterations) in 3.71 seconds (4.02 work units)\n",
      "Thread count was 16 (of 16 available processors)\n",
      "\n",
      "Solution count 1: -0 \n",
      "No other solutions better than -0\n",
      "\n",
      "Optimal solution found (tolerance 1.00e-04)\n",
      "Best objective -0.000000000000e+00, best bound -0.000000000000e+00, gap 0.0000%\n"
     ]
    }
   ],
   "source": [
    "import thermo_flux.solver\n",
    "import thermo_flux.solver.gurobi\n",
    "\n",
    "\n",
    "tmodel.m.params.NonConvex=2\n",
    "tmodel.m.params.IntFeasTol=1e-6\n",
    "tmodel.m.params.OptimalityTol=1e-6\n",
    "tmodel.m.params.TimeLimit=60*1 #1 minute\n",
    "\n",
    "\n",
    "tmodel.m.optimize()\n",
    "# thermo_flux.solver.gurobi.compute_IIS(tmodel)"
   ]
  },
  {
   "cell_type": "code",
   "execution_count": 21,
   "metadata": {},
   "outputs": [],
   "source": [
    "##saving model in mps format\n",
    "# tmodel.m.write('fixed_dir_firstTFBA_ENS_9.mps')\n",
    "# ## and solution (all variables final values) in .sol format\n",
    "# tmodel.m.write('fixed_dir_firstTFBA_ENS_9.sol')"
   ]
  },
  {
   "cell_type": "markdown",
   "metadata": {},
   "source": [
    "## Running TFBA without fixing qm (drG_error) is (i) much longer and (ii) less accurate, because the model can tune drG_error values to maximize growth.\n",
    "To fix this issue, we will run a regression to experimental data in the part 2, forcing the model to provide a set drG_error values that matches the data."
   ]
  },
  {
   "cell_type": "markdown",
   "metadata": {},
   "source": [
    "### First we load the regression data (from Canelas et al., 2011.)\n",
    "The regression data must be in a specific format before it can be used in the regression function. We process the input dataframe "
   ]
  },
  {
   "cell_type": "code",
   "execution_count": 21,
   "metadata": {},
   "outputs": [],
   "source": [
    "reg_data = hl.excel_to_df(f'{INPUT_FOLDER}/FLUX_CONC_data_Canelas_yeast.xlsx')\n",
    "##first process flux data\n",
    "reg_data['dvmeas'] = reg_data['dvmeas'].reset_index()\n",
    "reg_data['dvmeas'].columns = ['cond','rxn','mean_sd','Value']\n",
    "reg_data['dvmeas'] = reg_data['dvmeas'].replace({'biomass':'biomass_EX'})\n",
    "reg_data['dvmeas'] = reg_data['dvmeas'].pivot(index=['cond', 'rxn'], columns='mean_sd', values='Value').rename_axis(None, axis=1)\n",
    "flux_data = reg_data['dvmeas']\n",
    "##then process metabolite data\n",
    "reg_data['dmetsmeas'] = reg_data['dmetsmeas'].reset_index()\n",
    "reg_data['dmetsmeas'].columns = ['cond','met','mean_sd','Value']\n",
    "reg_data['dmetsmeas'] = reg_data['dmetsmeas'].pivot(index=['cond', 'met'], columns='mean_sd', values='Value').rename_axis(None, axis=1)\n",
    "metabolite_data = reg_data['dmetsmeas']\n",
    "###We can select the conditions that we are going to use\n",
    "conditions = reg_data[('cond')].index.to_list()\n",
    "###for this example, we will regress to the last condition only.\n",
    "conditions = conditions[-1:]\n",
    "##To fit whole cell concentration data we also attribute relative volume fractions to each compartment\n",
    "volume_data = pd.DataFrame({cond: {'c': 0.925, 'm': 0.075} for cond in conditions}).T ## here cytosol is 92.5% and mitochondria is 7.5% of the cell volume\n",
    "\n",
    "### It is also possible to bound the concentration of extracellular metabolites to experimental values, in this case we would :\n",
    "# 1)load them\n",
    "# 2)bound either the tmodel metabolite concentration bounds\n",
    "# 3)or build the gurobi model and then bound the ln_conc variable for the corresponding metabolites"
   ]
  },
  {
   "cell_type": "code",
   "execution_count": 22,
   "metadata": {},
   "outputs": [],
   "source": [
    "flux_data.index = flux_data.index.set_levels([''.join(('EX_', str(level).replace('_EX', '_e'))) if 'biomass' not in str(level) else str(level) for level in flux_data.index.levels[1]], level=1)\n",
    "flux_data.index = flux_data.index.set_levels(flux_data.index.get_level_values(1).str.replace('EX_co2tot_e','EX_co2_e').unique(), level=1)\n",
    "#replace EX_glc-D_e with EX_glc__D_e\n",
    "flux_data.index = flux_data.index.set_levels(flux_data.index.get_level_values(1).str.replace('EX_glc-D_e','EX_glc__D_e').unique(), level=1)"
   ]
  },
  {
   "cell_type": "markdown",
   "metadata": {},
   "source": [
    "## then build the gurobi model and add fitting variables"
   ]
  },
  {
   "cell_type": "code",
   "execution_count": null,
   "metadata": {},
   "outputs": [],
   "source": [
    "# add the TFBA variables to the model\n",
    "tmodel.m = None #reset the gurobi model object in case you're re-running this cell \n",
    "tmodel.add_TFBA_variables(gdiss_constraint = False, sigmac_limit = (5000/tmodel.T.m), error_type = 'covariance',qnorm='sep_norm',alpha=0.95)\n",
    "##qnorm set to sep_norm uses indepedent bounds for each coefficient in qm and is MUCH faster than qnorm 2\n",
    "tmodel.m.update()"
   ]
  },
  {
   "cell_type": "code",
   "execution_count": 24,
   "metadata": {},
   "outputs": [],
   "source": [
    "###The regression function is : \n",
    "# 1) adding variables for whole cell concentration for metabolites that are in the metabolomics data \n",
    "# 2) adding constraints for the whole cell concentration and the corresponding compartmental concentrations\n",
    "# 3) modifies the objective of the gurobi model so that it is now maximizing biomass but\n",
    "# ## minimizing the sum of the squared residuals of the fluxes and concentrations\n",
    "\n",
    "tmodel.regression(conditions, flux_data, metabolite_data, volume_data,\n",
    "                   conc_fit=True, flux_fit=True, drG_fit=False, resnorm=1, qm_resnorm = 1,\n",
    "                   error_type='covariance', conc_units = 'mM')\n",
    "\n",
    "## to ensure good fit to extracellular fluxes, we can bound the exchange fluxes to the experimental values\n",
    "#make up lower and upper bounds from the confidence interval given the std\n",
    "CI=2.6\n",
    "flux_data['lb'] = flux_data['mean'] - CI*flux_data['sd']\n",
    "flux_data['ub'] = flux_data['mean'] + CI*flux_data['sd']\n",
    "\n",
    "##here we have build the gurobi model so we bound the flux variables v \n",
    "for cond_index,cond in enumerate(conditions):\n",
    "    flux_data_cond = flux_data.loc[cond]\n",
    "    for rxn_id in flux_data_cond.index:\n",
    "        idx_in_model = map_rxn_id[rxn_id]\n",
    "        #the mvars dictionary is a dictionary of dictionaries, the first key is the condition index, the second key is the reaction index\n",
    "        tmodel.mvars['v'][cond_index][idx_in_model].lb = flux_data_cond.loc[rxn_id,'lb']\n",
    "        tmodel.mvars['v'][cond_index][idx_in_model].ub = flux_data_cond.loc[rxn_id,'ub']\n",
    "    \n"
   ]
  },
  {
   "cell_type": "code",
   "execution_count": 25,
   "metadata": {},
   "outputs": [],
   "source": [
    "### to help with numerics, we can set a minimum abs threshold for the bounds and constraints\n",
    "threshold = 1e-6\n",
    "new_bound=0\n",
    "for var in tmodel.m.getVars():\n",
    "    if (abs(var.ub) < threshold) & (abs(var.ub) != 0):\n",
    "        var.ub = new_bound if var.ub >0 else -new_bound\n",
    "        # print(var.varName,var.ub)\n",
    "    if (abs(var.lb) < threshold) & (abs(var.lb) != 0):\n",
    "        var.lb = -new_bound if var.lb <0 else new_bound\n",
    "        # print(var.varName,var.lb)\n",
    "# Iterate over the constraints\n",
    "for constraint in tmodel.m.getConstrs():\n",
    "    # Get the RHS value\n",
    "    rhs_value = constraint.RHS\n",
    "\n",
    "    # Check if the RHS value is less than the threshold\n",
    "    if (abs(rhs_value) < threshold) & (rhs_value != 0):\n",
    "        constraint.RHS = new_bound if rhs_value >0 else -new_bound\n",
    "        # print(constraint.ConstrName,constraint.RHS)"
   ]
  },
  {
   "cell_type": "code",
   "execution_count": null,
   "metadata": {},
   "outputs": [],
   "source": [
    "### gurobi model parameters are set with the .params attributes\n",
    "tmodel.m.params.TimeLimit=60*5\n",
    "tmodel.m.params.FuncNonlinear=1 ##this parameter is essential for the accuracy of the exponential function (whole cell concentration) approximations\n",
    "tmodel.m.optimize()\n"
   ]
  },
  {
   "cell_type": "code",
   "execution_count": null,
   "metadata": {},
   "outputs": [],
   "source": [
    "## save the solution file, that we will later use to fix qm \n",
    "tmodel.m.write(f'yeast_regression_d8.sol')"
   ]
  },
  {
   "cell_type": "code",
   "execution_count": null,
   "metadata": {},
   "outputs": [],
   "source": [
    "### debug  by computing the minimal set of constraints that make the model infeasible (IIS)\n",
    "# thermo_flux.solver.gurobi.compute_IIS(tmodel)\n"
   ]
  },
  {
   "cell_type": "markdown",
   "metadata": {},
   "source": [
    "## Next we visualize the regression fits\n",
    "todo : make easy function to plot the regression fits"
   ]
  },
  {
   "cell_type": "code",
   "execution_count": null,
   "metadata": {},
   "outputs": [],
   "source": [
    "##flux fit plot\n",
    "##plot error bars \n",
    "#ax.errorbar(xd, yd, xerr=yerr, fmt='none', capsize=2, zorder=1,)\n",
    "mvars = tmodel.mvars\n",
    "\n",
    "mean_flux = flux_data.unstack(level=0)['mean']\n",
    "mean_flux = mean_flux.fillna(0)\n",
    "sd=flux_data.unstack(level=0)['sd']\n",
    "\n",
    "#get flux solution \n",
    "flux_df = pd.DataFrame(mvars['v'].getAttr(\"x\")).T\n",
    "flux_df['rxn_id'] = [rxn.id for rxn in tmodel.reactions]\n",
    "flux_df = flux_df.set_index('rxn_id')\n",
    "\n",
    "fitted_flux = flux_df.loc[mean_flux.index]\n",
    "fitted_flux.columns = conditions\n",
    "\n",
    "# sns.set(rc={\"figure.dpi\":100})\n",
    "# sns.set_theme(style=\"whitegrid\", palette=None)\n",
    "\n",
    "df = pd.concat([mean_flux, fitted_flux,sd], keys = ['mean', 'fitted','sd'], axis=0).unstack(level=1).T.reset_index()\n",
    "sns.scatterplot( x=\"mean\", y=\"fitted\", data=df, s=100,edgecolor='black').set(title='Flux regression')\n",
    "plt.plot([-12,20],[-12,20],linestyle='--', c=\".3\")\n",
    "# plt.legend(loc='lower right', title='Flux',bbox_to_anchor=(1.,0))\n",
    "plt.locator_params(nbins=4)\n",
    "plt.grid(False)#hide grid #show  axis in black \n",
    "plt.gca().spines[['bottom','left','top','right']].set_visible(True)\n",
    "plt.gca().spines[['bottom','left','top','right']].set_color('black')\n",
    "plt.xlabel('Measured value ($mmol.(L.h)^{-1}$)',fontsize=18)#x axis label and increase font size\n",
    "plt.ylabel('Fitted value ($mmol.(L.h)^{-1}$)',fontsize=18)\n",
    "plt.text(3,-10,'Extracellular fluxes',fontsize=18)#add text to the bottom right corner, aligned to the right\n",
    "plt.tick_params(axis='both', which='major', labelsize=16)#increase tick size\n",
    "plt.gca().yaxis.set_ticks_position('left')#show ticks only on bottom and left #show ticks inside the plot\n",
    "plt.gca().xaxis.set_ticks_position('bottom'); plt.tick_params(direction='in')\n",
    "# plt.text(145,10, 'Intracellular \\nconcentrations', fontsize=18,horizontalalignment='right')#add text to the bottom right corner, aligned to the right\n",
    "plt.xlim(-12,20)#start at 0\n",
    "plt.ylim(-12,20)\n",
    "pd.set_option('display.max_rows', 20)\n",
    "df['residual'] = abs((df['fitted'] - df['mean'])/df['sd'])\n",
    "df['L2_residual'] = (df['fitted'] - df['mean']/df['sd'])**2\n",
    "\n",
    "df.index=df['level_0']+'_'+df['rxn']\n",
    "display(df.sort_values(by='residual', ascending=False))\n",
    "\n",
    "df = pd.DataFrame(tmodel.solution().loc[[rxn.id for rxn in tmodel.boundary]][['v','condition']]).pivot( columns='condition', values='v')\n",
    "df.columns = conditions\n",
    "reg_fluxes = abs(df.T)\n",
    "\n",
    "# plt.savefig(f'{OUTPUT_FOLDER_PLOTS}reg+allconds_fluxfit.png',dpi=300,bbox_inches='tight')\n",
    "# plt.savefig(f'{OUTPUT_FOLDER_PLOTS}reg+allconds_fluxfit.svg',dpi=300,bbox_inches='tight')\n"
   ]
  },
  {
   "cell_type": "markdown",
   "metadata": {},
   "source": [
    "### we can also analyse the intracellular fluxes that match experimental data\n"
   ]
  },
  {
   "cell_type": "code",
   "execution_count": null,
   "metadata": {},
   "outputs": [],
   "source": [
    "sol=tmodel.solution()\n",
    "\n",
    "sol.loc[[r.id for r in tmodel.metabolites.get_by_id('pyr_c').reactions]]\n",
    "display(sol.loc[[r.id for r in tmodel.boundary]].sort_values(by='v',ascending=False).head(20))"
   ]
  },
  {
   "cell_type": "markdown",
   "metadata": {},
   "source": [
    "# In the third part, we will build the model and run TFBA like in notebook 1, except that the qm vector will have been fixed to the one obtained in notebook 2 (regression)\n",
    "In this manner, the TFBA simulations are much faster and better predict extracellular physiology. We can finally run simulation over several glucose uptake rates (GUR) in a GUR scan."
   ]
  },
  {
   "cell_type": "code",
   "execution_count": null,
   "metadata": {},
   "outputs": [],
   "source": [
    "# add the TFBA variables to the model\n",
    "tmodel.m = None #reset the gurobi model object in case you're re-running this cell \n",
    "tmodel.add_TFBA_variables(gdiss_constraint = True, sigmac_limit = (4000/tmodel.T.m), error_type = 'covariance',qnorm='sep_norm',alpha=0.95)\n",
    "tmodel.m.update()"
   ]
  },
  {
   "cell_type": "code",
   "execution_count": 33,
   "metadata": {},
   "outputs": [],
   "source": [
    "thermo_flux.solver.gurobi.model_start(tmodel,f'yeast_regression_d8.sol', ignore_vars=['all'],fix_vars=['qm'],fix='bound')\n"
   ]
  },
  {
   "cell_type": "code",
   "execution_count": null,
   "metadata": {},
   "outputs": [],
   "source": [
    "import thermo_flux.solver\n",
    "import thermo_flux.solver.gurobi\n",
    "\n",
    "\n",
    "tmodel.m.params.NonConvex=2\n",
    "tmodel.m.params.IntFeasTol=1e-6\n",
    "tmodel.m.params.OptimalityTol=1e-6\n",
    "tmodel.m.params.TimeLimit=60*1\n",
    "\n",
    "\n",
    "tmodel.m.optimize()\n",
    "# thermo_flux.solver.gurobi.compute_IIS(tmodel)"
   ]
  },
  {
   "cell_type": "code",
   "execution_count": 36,
   "metadata": {},
   "outputs": [],
   "source": [
    "### contribution of different terms to the total gibbs energy dissipation rate\n",
    "thermo_flux.solver.gurobi.gdiss_model(tmodel)"
   ]
  },
  {
   "cell_type": "markdown",
   "metadata": {},
   "source": [
    "### below we do a GUR scan  and compare with FBA results"
   ]
  },
  {
   "cell_type": "code",
   "execution_count": null,
   "metadata": {},
   "outputs": [],
   "source": [
    "# add the TFBA variables to the model\n",
    "tmodel.m = None #reset the gurobi model object in case you're re-running this cell \n",
    "tmodel.add_TFBA_variables(gdiss_constraint = True, sigmac_limit = (3700/tmodel.T.m), error_type = 'covariance',qnorm='sep_norm',alpha=0.95)\n",
    "tmodel.m.update()\n",
    "tmodel.m.params.timelimit=60*5\n",
    "\n",
    "GUR_range = np.linspace(-0, -23, 20)\n",
    "\n",
    "thermo_flux.solver.gurobi.variable_scan(tmodel, GUR_range, var = tmodel.mvars['v'][0][tmodel.reactions.index(tmodel.reactions.get_by_id('EX_glc__D_e'))]) # here we get the index for the glucose uptake reaction and use this to index the v variable in the gurobi model\n",
    "thermo_flux.solver.gurobi.model_start(tmodel,'yeast_regression_d8.sol', ignore_vars=['all'],fix_vars=['qm'],fix='bound')\n",
    "\n",
    "tmodel.m.optimize()\n",
    "\n",
    "fluxes_gdiss = thermo_flux.solver.gurobi.multi_scenario_sol(tmodel,var = 'v') \n",
    "fluxes_gdiss= pd.DataFrame(fluxes_gdiss[0].T, index = [rxn.id for rxn in tmodel.reactions])"
   ]
  },
  {
   "cell_type": "code",
   "execution_count": null,
   "metadata": {},
   "outputs": [],
   "source": [
    "#plot biomass yield for stoichiometric model with balanced reactions and pH specified\n",
    "df_data2 = pd.read_csv(f'{INPUT_FOLDER}plotting_Yeast_ALL_experimental_data.csv',index_col=0)\n",
    "df_data2['regression'].fillna('Not fitted',inplace=True)\n",
    "df_data2['regression'].replace('yes', 'Fitted', inplace=True)\n",
    "df_data2.rename(columns={'regression':'Exp. data'}, inplace=True)\n",
    "#rename index in Condition\n",
    "df_data2.index.rename('Condition', inplace=True)\n",
    "\n",
    "GUR_plot_range=[-x for x in GUR_range]\n",
    "#plot biomass vs GUR in a scatter plot\n",
    "\n",
    "sns.scatterplot(x=GUR_plot_range,y=fluxes_gdiss.loc['biomass_EX'],color='b',label='TFBA')\n",
    "sns.scatterplot(x=df_data2['glc-D_EX'], y=df_data2['biomass_EX'], color=['red'],label='Experimental data')\n",
    "\n",
    "plt.xlabel('Glucose uptake rate (mmol/(gDW.h))',fontsize=14)\n",
    "plt.ylabel('Biomass production rate (mmol/(gDW.h))',fontsize=14)\n",
    "\n",
    "\n"
   ]
  },
  {
   "cell_type": "code",
   "execution_count": null,
   "metadata": {},
   "outputs": [],
   "source": []
  },
  {
   "cell_type": "code",
   "execution_count": null,
   "metadata": {},
   "outputs": [],
   "source": []
  }
 ],
 "metadata": {
  "kernelspec": {
   "display_name": "tf_env",
   "language": "python",
   "name": "python3"
  },
  "language_info": {
   "codemirror_mode": {
    "name": "ipython",
    "version": 3
   },
   "file_extension": ".py",
   "mimetype": "text/x-python",
   "name": "python",
   "nbconvert_exporter": "python",
   "pygments_lexer": "ipython3",
   "version": "3.10.14"
  }
 },
 "nbformat": 4,
 "nbformat_minor": 2
}
