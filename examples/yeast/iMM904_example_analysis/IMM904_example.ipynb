{
 "cells": [
  {
   "cell_type": "code",
   "execution_count": 1,
   "metadata": {},
   "outputs": [],
   "source": [
    "### to make sure the notebook imports the correct package, append the path to sys.path so python can find the package\n",
    "# import sys\n",
    "# sys.path.append('/home/nathan/public_thermo_flux')\n",
    "\n",
    "from cobra.io import load_json_model\n",
    "import thermo_flux\n",
    "from thermo_flux.core.model import ThermoModel\n",
    "from equilibrator_api import  Q_\n",
    "import pandas as pd\n",
    "from thermo_flux.io import helper_load as hl\n",
    "\n",
    "import numpy as np\n",
    "\n",
    "\n",
    "import seaborn as sns\n",
    "import matplotlib.pyplot as plt\n"
   ]
  },
  {
   "cell_type": "code",
   "execution_count": 2,
   "metadata": {},
   "outputs": [],
   "source": [
    "INPUT_FOLDER= 'datafiles/'"
   ]
  },
  {
   "cell_type": "markdown",
   "metadata": {},
   "source": [
    "# In this first part, we will start from a cobra model and build a thermo-model following the steps described in the protocol "
   ]
  },
  {
   "cell_type": "markdown",
   "metadata": {},
   "source": [
    "Import (json/xml/sbml) model from BiGG"
   ]
  },
  {
   "cell_type": "code",
   "execution_count": 3,
   "metadata": {},
   "outputs": [
    {
     "name": "stdout",
     "output_type": "stream",
     "text": [
      "Set parameter Username\n",
      "Academic license - for non-commercial use only - expires 2026-06-03\n",
      "0.974881420673357\n"
     ]
    },
    {
     "data": {
      "text/html": [
       "<div>\n",
       "<style scoped>\n",
       "    .dataframe tbody tr th:only-of-type {\n",
       "        vertical-align: middle;\n",
       "    }\n",
       "\n",
       "    .dataframe tbody tr th {\n",
       "        vertical-align: top;\n",
       "    }\n",
       "\n",
       "    .dataframe thead th {\n",
       "        text-align: right;\n",
       "    }\n",
       "</style>\n",
       "<table border=\"1\" class=\"dataframe\">\n",
       "  <thead>\n",
       "    <tr style=\"text-align: right;\">\n",
       "      <th></th>\n",
       "      <th>fluxes</th>\n",
       "      <th>reduced_costs</th>\n",
       "    </tr>\n",
       "  </thead>\n",
       "  <tbody>\n",
       "    <tr>\n",
       "      <th>EX_epistest_SC_e</th>\n",
       "      <td>0.0</td>\n",
       "      <td>-96.275549</td>\n",
       "    </tr>\n",
       "    <tr>\n",
       "      <th>EX_epist_e</th>\n",
       "      <td>0.0</td>\n",
       "      <td>-1.676719</td>\n",
       "    </tr>\n",
       "    <tr>\n",
       "      <th>EX_ergst_e</th>\n",
       "      <td>0.0</td>\n",
       "      <td>-1.722387</td>\n",
       "    </tr>\n",
       "    <tr>\n",
       "      <th>EX_ergstest_SC_e</th>\n",
       "      <td>0.0</td>\n",
       "      <td>-96.321217</td>\n",
       "    </tr>\n",
       "    <tr>\n",
       "      <th>EX_13BDglcn_e</th>\n",
       "      <td>0.0</td>\n",
       "      <td>-0.196130</td>\n",
       "    </tr>\n",
       "    <tr>\n",
       "      <th>...</th>\n",
       "      <td>...</td>\n",
       "      <td>...</td>\n",
       "    </tr>\n",
       "    <tr>\n",
       "      <th>EX_xyl__D_e</th>\n",
       "      <td>0.0</td>\n",
       "      <td>-0.163442</td>\n",
       "    </tr>\n",
       "    <tr>\n",
       "      <th>EX_xylt_e</th>\n",
       "      <td>0.0</td>\n",
       "      <td>-0.176421</td>\n",
       "    </tr>\n",
       "    <tr>\n",
       "      <th>EX_rib__D_e</th>\n",
       "      <td>0.0</td>\n",
       "      <td>-0.163442</td>\n",
       "    </tr>\n",
       "    <tr>\n",
       "      <th>EX_zymst_e</th>\n",
       "      <td>0.0</td>\n",
       "      <td>-1.620476</td>\n",
       "    </tr>\n",
       "    <tr>\n",
       "      <th>EX_zymstest_SC_e</th>\n",
       "      <td>0.0</td>\n",
       "      <td>-96.219306</td>\n",
       "    </tr>\n",
       "  </tbody>\n",
       "</table>\n",
       "<p>164 rows × 2 columns</p>\n",
       "</div>"
      ],
      "text/plain": [
       "                  fluxes  reduced_costs\n",
       "EX_epistest_SC_e     0.0     -96.275549\n",
       "EX_epist_e           0.0      -1.676719\n",
       "EX_ergst_e           0.0      -1.722387\n",
       "EX_ergstest_SC_e     0.0     -96.321217\n",
       "EX_13BDglcn_e        0.0      -0.196130\n",
       "...                  ...            ...\n",
       "EX_xyl__D_e          0.0      -0.163442\n",
       "EX_xylt_e            0.0      -0.176421\n",
       "EX_rib__D_e          0.0      -0.163442\n",
       "EX_zymst_e           0.0      -1.620476\n",
       "EX_zymstest_SC_e     0.0     -96.219306\n",
       "\n",
       "[164 rows x 2 columns]"
      ]
     },
     "execution_count": 3,
     "metadata": {},
     "output_type": "execute_result"
    }
   ],
   "source": [
    "from cobra.io import load_json_model\n",
    "model=load_json_model('iMM904.json')\n",
    "\n",
    "#set objective to biomass\n",
    "model.objective = model.reactions.BIOMASS_SC5_notrace\n",
    "\n",
    "model.repair()\n",
    "#we keep rxn directions or  Note that we will make all reactions reversible\n",
    "for rxn in model.reactions:\n",
    "    rxn.lower_bound=-500 if rxn.lower_bound==-999999.0 else rxn.lower_bound\n",
    "    rxn.upper_bound=500 if rxn.upper_bound==999999.0 else rxn.upper_bound\n",
    "\n",
    "#reset O2 exchange bound\n",
    "model.optimize().to_frame().loc['BIOMASS_SC5_notrace']['fluxes']\n",
    "model.reactions.EX_o2_e.bounds=(-500,0)\n",
    "\n",
    "print(model.optimize().to_frame().loc['BIOMASS_SC5_notrace']['fluxes'])\n",
    "model.optimize().to_frame().loc[[rxn.id for rxn in model.boundary]]\n",
    "\n"
   ]
  },
  {
   "cell_type": "markdown",
   "metadata": {},
   "source": [
    "Step 1 - Physical and Biochemical parameters"
   ]
  },
  {
   "cell_type": "code",
   "execution_count": 4,
   "metadata": {},
   "outputs": [
    {
     "name": "stdout",
     "output_type": "stream",
     "text": [
      "Initializing component contribution object...\n",
      "cxcalc is not installed, operating in read-only mode. A local cache may be loaded, but no compounds can be created. Install cxcalc and obtain a ChemAxon license to enable compound creation.\n",
      "Copying default Zenodo compound cache to iMM904_compound.sqlite\n",
      "Loading compounds from iMM904_compound.sqlite\n",
      "added reaction:  biomass_ce: biomass_c <=> biomass_e\n",
      "added reaction:  biomass_EX: biomass_e <=> \n",
      "added reaction:  charge_ce: charge_e <=> charge_c\n",
      "added reaction:  EX_charge: charge_e <=> \n",
      "added reaction:  charge_cm: charge_m <=> charge_c\n",
      "added reaction:  charge_cx: charge_x <=> charge_c\n",
      "added reaction:  charge_cr: charge_r <=> charge_c\n",
      "added reaction:  charge_cv: charge_v <=> charge_c\n",
      "added reaction:  charge_cg: charge_g <=> charge_c\n",
      "added reaction:  charge_cn: charge_n <=> charge_c\n"
     ]
    }
   ],
   "source": [
    "tmodel=ThermoModel(model,split_biomass=True, add_charge_exchange= True)"
   ]
  },
  {
   "cell_type": "code",
   "execution_count": 5,
   "metadata": {},
   "outputs": [],
   "source": [
    "#define the biochemical parameters of the model\n",
    "\n",
    "tmodel.phi={'ec': Q_(-0.06,'volt'), 'cm': Q_(-0.16,'volt'),'cx':Q_(0,'volt'),'cr':Q_(0,'volt'),'cv':Q_(0,'volt'),'cg':Q_(0,'volt'),'cn':Q_(0,'volt')}\n",
    "tmodel.pH={'c':Q_(7),'e':Q_(5),'m':Q_(7.4),'r':Q_(7),'v':Q_(5.5),'g':Q_(7),'x':Q_(7),'n':Q_(7)} #On the intracellular pH of baker’s yeast(r), Martinez-Munoz et al. 2008(v), Juan Llopis et al 1998 (g), 7 is default pH\n",
    "\n",
    "#change max drGcalc_drGt\n",
    "tmodel._max_drG=Q_(1e6,'kJ/mol') #max is already 1e8 shouldnt need to change\n"
   ]
  },
  {
   "cell_type": "markdown",
   "metadata": {},
   "source": [
    "Step 2 - Definition of metabolites"
   ]
  },
  {
   "cell_type": "code",
   "execution_count": 6,
   "metadata": {},
   "outputs": [],
   "source": [
    "from warnings import warn"
   ]
  },
  {
   "cell_type": "code",
   "execution_count": 7,
   "metadata": {},
   "outputs": [
    {
     "name": "stdout",
     "output_type": "stream",
     "text": [
      "[██████████████████████████████████......] 1065/1236 r1p_c                                                                                                                \r"
     ]
    },
    {
     "name": "stderr",
     "output_type": "stream",
     "text": [
      "WARNING: dolichol_c has inconsistent formula with eQuilibrator identified metabolite. COBRA:{'C': 15, 'H': 28, 'O': 1}, eQuilibrator:{'C': 25, 'O': 1}. Defining as unknown compound\n",
      "WARNING: dolmanp_r has inconsistent formula with eQuilibrator identified metabolite. COBRA:{'C': 21, 'H': 38, 'O': 9, 'P': 1}, eQuilibrator:{'C': 31, 'O': 9, 'P': 1}. Defining as unknown compound\n",
      "WARNING: glycogen_c has inconsistent formula with eQuilibrator identified metabolite. COBRA:{'C': 6, 'H': 10, 'O': 5}, eQuilibrator:{'O': 21, 'C': 24}. Defining as unknown compound\n",
      "WARNING: glycogen_v has inconsistent formula with eQuilibrator identified metabolite. COBRA:{'C': 6, 'H': 10, 'O': 5}, eQuilibrator:{'O': 21, 'C': 24}. Defining as unknown compound\n",
      "WARNING: mhpglu_c has inconsistent formula with eQuilibrator identified metabolite. COBRA:{'C': 25, 'H': 36, 'N': 8, 'O': 12}, eQuilibrator:{'C': 30, 'N': 9, 'O': 12}. Defining as unknown compound\n",
      "WARNING: macchitppdol_g has inconsistent formula with eQuilibrator identified metabolite. COBRA:{'C': 37, 'H': 64, 'N': 2, 'O': 22, 'P': 2}, eQuilibrator:{'C': 47, 'O': 22, 'P': 2, 'N': 2}. Defining as unknown compound\n",
      "WARNING: hpglu_c has inconsistent formula with eQuilibrator identified metabolite. COBRA:{'C': 24, 'H': 34, 'N': 8, 'O': 12}, eQuilibrator:{'N': 9, 'C': 29, 'O': 12}. Defining as unknown compound\n"
     ]
    },
    {
     "name": "stdout",
     "output_type": "stream",
     "text": [
      "[███████████████████████████████████████.] 1227/1236 biomass_c                                                                                                                      \r"
     ]
    },
    {
     "name": "stderr",
     "output_type": "stream",
     "text": [
      "WARNING: trdox_c has inconsistent formula with eQuilibrator identified metabolite. COBRA:{'X': 1}, eQuilibrator:{'N': 4, 'C': 10, 'S': 2, 'O': 4}. Defining as unknown compound\n",
      "WARNING: trdox_m has inconsistent formula with eQuilibrator identified metabolite. COBRA:{'X': 1}, eQuilibrator:{'N': 4, 'C': 10, 'S': 2, 'O': 4}. Defining as unknown compound\n",
      "WARNING: trdox_n has inconsistent formula with eQuilibrator identified metabolite. COBRA:{'X': 1}, eQuilibrator:{'N': 4, 'C': 10, 'S': 2, 'O': 4}. Defining as unknown compound\n",
      "WARNING: trdox_x has inconsistent formula with eQuilibrator identified metabolite. COBRA:{'X': 1}, eQuilibrator:{'N': 4, 'C': 10, 'S': 2, 'O': 4}. Defining as unknown compound\n",
      "WARNING: trdrd_c has inconsistent formula with eQuilibrator identified metabolite. COBRA:{'X': 1, 'H': 2}, eQuilibrator:{'N': 4, 'C': 10, 'S': 2, 'O': 4}. Defining as unknown compound\n",
      "WARNING: trdrd_m has inconsistent formula with eQuilibrator identified metabolite. COBRA:{'X': 1, 'H': 2}, eQuilibrator:{'N': 4, 'C': 10, 'S': 2, 'O': 4}. Defining as unknown compound\n",
      "WARNING: trdrd_n has inconsistent formula with eQuilibrator identified metabolite. COBRA:{'X': 1, 'H': 2}, eQuilibrator:{'N': 4, 'C': 10, 'S': 2, 'O': 4}. Defining as unknown compound\n",
      "WARNING: trdrd_x has inconsistent formula with eQuilibrator identified metabolite. COBRA:{'X': 1, 'H': 2}, eQuilibrator:{'N': 4, 'C': 10, 'S': 2, 'O': 4}. Defining as unknown compound\n"
     ]
    },
    {
     "name": "stdout",
     "output_type": "stream",
     "text": [
      "[████████████████████████████████████████] 1236/1236 charge_n                  \n",
      "\n"
     ]
    },
    {
     "data": {
      "text/plain": [
       "[<ThermoMetabolite biomass_c at 0x31a3ce850>,\n",
       " <ThermoMetabolite biomass_e at 0x31a3cfed0>]"
      ]
     },
     "execution_count": 7,
     "metadata": {},
     "output_type": "execute_result"
    }
   ],
   "source": [
    "tmodel.get_compounds(search = True)"
   ]
  },
  {
   "cell_type": "code",
   "execution_count": 8,
   "metadata": {},
   "outputs": [],
   "source": [
    "#define biomass parameters \n",
    "#if the biomass formula is not automatically calcualted it's important to specifiy the hydrogen atoms in biomass to ensure correct proton balancing \n",
    "tmodel.metabolites.biomass_c.formula = 'H67'\n",
    "tmodel.metabolites.biomass_e.formula = 'H67'\n",
    "\n",
    "#manually define charge of cytochrome C so electron movement is correctly calcualted\n",
    "tmodel.metabolites.focytc_m.charge = 2\n",
    "tmodel.metabolites.focytc_m.redox= True #define as redox metabolite \n",
    "tmodel.metabolites.ficytc_m.charge = 3\n",
    "tmodel.metabolites.ficytc_m.redox = True"
   ]
  },
  {
   "cell_type": "markdown",
   "metadata": {},
   "source": [
    "### Step 3 - metabolites formation energies"
   ]
  },
  {
   "cell_type": "markdown",
   "metadata": {},
   "source": [
    "When specifying the value of `dfGprime` for the biomass metabolite, we should plug in the values in units of **J/gDW**. This differs from all the other reactions in the model, for which values of **kJ/mol** are used.\n",
    "\n",
    "The reason for this discrepancy has to do with the units of the fluxes.\n",
    "\n",
    "For a normal reaction:\n",
    "$g_{diss, rxn} = \\Delta_rG \\times v = (kJ/mol) \\times (mmol/gDW/h) = (10^3 J/mol) \\times (10^{-3} mol/gDW/h) = J/gDW/h$\n",
    "\n",
    "For the biomass reaction:\n",
    "$g_{diss, bio} = \\Delta_fG_{bio} \\times \\mu = (J/gDW) \\times (gDW/gDW/h) = J/gDW/h $\n",
    "\n",
    "Since thermoflux handles all reactions the same when determining the gibbs energy dissipation rate (multiplying $v$ by $\\Delta_rG$), we have to **pretend** that the biomass formation energy has units of kJ/mol. E.g:\n",
    "`tmodel.metabolites.biomass_c.dfGprime = Q_(701.767, \"kJ/mol\")` (where 701.767 is the formation energy of E.coli biomass at cytosolic pH, in units of J/gDW)"
   ]
  },
  {
   "cell_type": "code",
   "execution_count": 9,
   "metadata": {},
   "outputs": [],
   "source": [
    "#define biomass properties\n",
    "tmodel.reactions.BIOMASS_SC5_notrace.id='biomass_c' #update biomass reaction name for convenience\n",
    "\n",
    "tmodel.metabolites.biomass_c.dfG0 = Q_(-3.04,'kJ/mol')*1000 #From Battley 1991, *1000 for mmol flux units (actual units here are J/gDW)\n",
    "tmodel.metabolites.biomass_e.dfG0 = Q_(-3.04,'kJ/mol')*1000\n"
   ]
  },
  {
   "cell_type": "markdown",
   "metadata": {},
   "source": [
    "### Step 4a - Transporters curation "
   ]
  },
  {
   "cell_type": "code",
   "execution_count": 10,
   "metadata": {},
   "outputs": [
    {
     "name": "stdout",
     "output_type": "stream",
     "text": [
      "ASPOcm ASPOcm: asp__L_c + fad_m --> fadh2_m + h_c + iasp_c {}\n",
      "ATPS ATPS: atp_c + h2o_c --> adp_c + h_e + pi_c {}\n",
      "DHORD4i DHORD4i: dhor__S_c + q6_m --> orot_c + q6h2_m {}\n",
      "DOLPMTcer DOLPMTcer: dolp_c + gdpmann_c --> dolmanp_r + gdp_c {}\n",
      "DXHPScm DXHPScm: h2o_c + q6_m + spmd_c --> 13dampp_c + 4abutn_c + q6h2_m {}\n",
      "D_LACDcm D_LACDcm: 2.0 ficytc_m + lac__D_c --> 2.0 focytc_m + pyr_c {}\n",
      "FDNG FDNG: for_c + h_c + q6_m --> co2_c + q6h2_m {}\n",
      "FRDcm FRDcm: fadh2_m + fum_c --> fad_m + succ_c {}\n",
      "L_LACD2cm L_LACD2cm: 2.0 ficytc_m + lac__L_c --> 2.0 focytc_m + pyr_c {}\n",
      "NADH2_u6cm NADH2_u6cm: h_c + nadh_c + q6_m --> nad_c + q6h2_m {}\n"
     ]
    }
   ],
   "source": [
    "#idenfity transporters where the transported metabolite is empty\n",
    "#these could either be redox reactions or proton pumps just moving electrons (charge) and protons \n",
    "#or they could be transporters with chemcial transformation during the transport process\n",
    "for reaction in tmodel.reactions:\n",
    "    if len(reaction.compartments) > 1:\n",
    "        if thermo_flux.tools.drg_tools.calc_transported_mets(reaction) == {}:\n",
    "            print(reaction.id, reaction, thermo_flux.tools.drg_tools.calc_transported_mets(reaction))\n"
   ]
  },
  {
   "cell_type": "code",
   "execution_count": 11,
   "metadata": {},
   "outputs": [
    {
     "name": "stdout",
     "output_type": "stream",
     "text": [
      "added reaction:  H_cm: h_m <=> h_c\n",
      "added reaction:  H_cx: h_x <=> h_c\n",
      "added reaction:  H_cr: h_r <=> h_c\n",
      "added reaction:  H_cv: h_v <=> h_c\n",
      "added reaction:  H_cg: h_g <=> h_c\n",
      "added reaction:  H_cn: h_n <=> h_c\n"
     ]
    }
   ],
   "source": [
    "## add proton transport reactions ##the directions are constrained by pH gradients\n",
    "\n",
    "tmodel.add_proton_exchange()"
   ]
  },
  {
   "cell_type": "code",
   "execution_count": 12,
   "metadata": {},
   "outputs": [
    {
     "name": "stdout",
     "output_type": "stream",
     "text": [
      "PIt2m0: 1.83 h_c + pi_c <=> 2.0 h_m + pi_m\n",
      "PIt2v0: 1.83 h_c + pi_c <=> 1.14 h_v + pi_v\n"
     ]
    }
   ],
   "source": [
    "## add transporter variants for all phosphate transporters\n",
    "\n",
    "for rxn in [r for r in tmodel.reactions if len(r.compartments) > 1 and any(m.id.split('_')[0] == 'pi' for m in r.metabolites)\n",
    "            and not any(m.id.split('_')[0] == 'atp' for m in r.metabolites )]:\n",
    "    new_reactions = thermo_flux.tools.drg_tools.add_transporter_varaints(rxn,balance_charge=True,add_charge_neutral = True, round_dp=2)\n",
    "    if new_reactions is not None:\n",
    "        if len(new_reactions) > 0:\n",
    "            for new_reaction in new_reactions:\n",
    "                print(new_reaction)"
   ]
  },
  {
   "cell_type": "markdown",
   "metadata": {},
   "source": [
    "### Step 5 - charge and proton balancing"
   ]
  },
  {
   "cell_type": "code",
   "execution_count": 13,
   "metadata": {},
   "outputs": [
    {
     "name": "stderr",
     "output_type": "stream",
     "text": [
      "WARNING: ATPS3v is not balanced and could not be automatically balanced, please check reaction stoichiometry or define reaction.transported_h\n",
      "WARNING: ASPOcm is a transporter but the transported metabolites could not be automatically calculated and no transported metabolites were manually defined, please check reaction stoichiometry or define reaction.transported_mets\n",
      "WARNING: ATPS is a transporter but the transported metabolites could not be automatically calculated and no transported metabolites were manually defined, please check reaction stoichiometry or define reaction.transported_mets\n",
      "WARNING: DHORD4i is a transporter but the transported metabolites could not be automatically calculated and no transported metabolites were manually defined, please check reaction stoichiometry or define reaction.transported_mets\n",
      "WARNING: DOLPMTcer is a transporter but the transported metabolites could not be automatically calculated and no transported metabolites were manually defined, please check reaction stoichiometry or define reaction.transported_mets\n",
      "WARNING: DXHPScm is a transporter but the transported metabolites could not be automatically calculated and no transported metabolites were manually defined, please check reaction stoichiometry or define reaction.transported_mets\n",
      "WARNING: D_LACDcm is a transporter but the transported metabolites could not be automatically calculated and no transported metabolites were manually defined, please check reaction stoichiometry or define reaction.transported_mets\n",
      "WARNING: FDNG is a transporter but the transported metabolites could not be automatically calculated and no transported metabolites were manually defined, please check reaction stoichiometry or define reaction.transported_mets\n",
      "WARNING: FRDcm is a transporter but the transported metabolites could not be automatically calculated and no transported metabolites were manually defined, please check reaction stoichiometry or define reaction.transported_mets\n",
      "WARNING: L_LACD2cm is a transporter but the transported metabolites could not be automatically calculated and no transported metabolites were manually defined, please check reaction stoichiometry or define reaction.transported_mets\n",
      "WARNING: NADH2_u6cm is a transporter but the transported metabolites could not be automatically calculated and no transported metabolites were manually defined, please check reaction stoichiometry or define reaction.transported_mets\n"
     ]
    }
   ],
   "source": [
    "for rxn in tmodel.reactions:\n",
    "    thermo_flux.tools.drg_tools.reaction_balance(rxn, balance_charge=True, balance_mg=False)"
   ]
  },
  {
   "cell_type": "markdown",
   "metadata": {},
   "source": [
    "manually curate all reactions that gave a warning"
   ]
  },
  {
   "cell_type": "code",
   "execution_count": 14,
   "metadata": {},
   "outputs": [],
   "source": [
    "#ATPS3v is vacuolar ATP synthase transporting three protons per ATP\n",
    "tmodel.reactions.ATPS3v.transported_h = {'v': 3.0, 'c': -3.0}\n",
    "thermo_flux.tools.drg_tools.reaction_balance(tmodel.reactions.ATPS3v, balance_charge=True, balance_mg=False)\n"
   ]
  },
  {
   "cell_type": "code",
   "execution_count": 15,
   "metadata": {},
   "outputs": [],
   "source": [
    "tmodel.reactions.ASPOcm.transported_h= {'m': 2.0, 'c': -2.0}\n",
    "tmodel.reactions.ASPOcm.transported_charge= {'m': -2.0, 'c': 2.0}\n",
    "thermo_flux.tools.drg_tools.reaction_balance(tmodel.reactions.ASPOcm, balance_charge=True, balance_mg=False)"
   ]
  },
  {
   "cell_type": "code",
   "execution_count": 16,
   "metadata": {},
   "outputs": [],
   "source": [
    "tmodel.reactions.ATPS.transported_h={'c':-1,'e':1}\n",
    "thermo_flux.tools.drg_tools.reaction_balance(tmodel.reactions.ATPS, balance_charge=True, balance_mg=False)"
   ]
  },
  {
   "cell_type": "code",
   "execution_count": 17,
   "metadata": {},
   "outputs": [],
   "source": [
    "#DHORD4i\n",
    "tmodel.reactions.DHORD4i.transported_h = {'m': 2.0, 'c': -2.0}\n",
    "tmodel.reactions.DHORD4i.transported_charge= {'m': -2.0, 'c': 2.0}\n",
    "thermo_flux.tools.drg_tools.reaction_balance(tmodel.reactions.DHORD4i, balance_charge=True, balance_mg=False)"
   ]
  },
  {
   "cell_type": "code",
   "execution_count": 18,
   "metadata": {},
   "outputs": [],
   "source": [
    "#DXHPScm is fine"
   ]
  },
  {
   "cell_type": "code",
   "execution_count": 19,
   "metadata": {},
   "outputs": [],
   "source": [
    "# D_LACDcm\n",
    "tmodel.reactions.D_LACDcm.transported_charge= {'m': 2.0, 'c': -2.0}\n",
    "thermo_flux.tools.drg_tools.reaction_balance(tmodel.reactions.D_LACDcm, balance_charge=True, balance_mg=False)"
   ]
  },
  {
   "cell_type": "code",
   "execution_count": 20,
   "metadata": {},
   "outputs": [],
   "source": [
    "##FDNG\n",
    "tmodel.reactions.FDNG.transported_h = {'m': 2.0, 'c': -2.0}\n",
    "tmodel.reactions.FDNG.transported_charge= {'m': -2.0, 'c': 2.0}\n",
    "thermo_flux.tools.drg_tools.reaction_balance(tmodel.reactions.FDNG, balance_charge=True, balance_mg=False)"
   ]
  },
  {
   "cell_type": "code",
   "execution_count": 21,
   "metadata": {},
   "outputs": [],
   "source": [
    "#FRDcm ## opposite then others h transport rxn we did until now\n",
    "tmodel.reactions.FRDcm.transported_h = {'m': -2.0, 'c': 2.0}\n",
    "tmodel.reactions.FRDcm.transported_charge= {'m': 2.0, 'c': -2.0}\n",
    "thermo_flux.tools.drg_tools.reaction_balance(tmodel.reactions.FRDcm, balance_charge=True, balance_mg=False)"
   ]
  },
  {
   "cell_type": "code",
   "execution_count": 22,
   "metadata": {},
   "outputs": [],
   "source": [
    "# L_LACD2cm\n",
    "tmodel.reactions.L_LACD2cm.transported_charge= {'m': 2.0, 'c': -2.0}\n",
    "thermo_flux.tools.drg_tools.reaction_balance(tmodel.reactions.L_LACD2cm, balance_charge=True, balance_mg=False)"
   ]
  },
  {
   "cell_type": "code",
   "execution_count": 23,
   "metadata": {},
   "outputs": [],
   "source": [
    "# NADH2_u6cm\n",
    "tmodel.reactions.NADH2_u6cm.transported_h = {'m': 2.0, 'c': -2.0}\n",
    "tmodel.reactions.NADH2_u6cm.transported_charge= {'m': -2.0, 'c': 2.0}\n",
    "thermo_flux.tools.drg_tools.reaction_balance(tmodel.reactions.NADH2_u6cm, balance_charge=True, balance_mg=False)"
   ]
  },
  {
   "cell_type": "code",
   "execution_count": 24,
   "metadata": {},
   "outputs": [
    {
     "data": {
      "text/html": [
       "\n",
       "        <table>\n",
       "            <tr>\n",
       "                <td><strong>Reaction identifier</strong></td><td>ATPS3v</td>\n",
       "            </tr><tr>\n",
       "                <td><strong>Name</strong></td><td>ATP synthase vacuole</td>\n",
       "            </tr><tr>\n",
       "                <td><strong>Memory address</strong></td>\n",
       "                <td>0x304340190</td>\n",
       "            </tr><tr>\n",
       "                <td><strong>Stoichiometry</strong></td>\n",
       "                <td>\n",
       "                    <p style='text-align:right'>adp_v + 3.0 charge_c + 3.0 h_c + pi_v --> atp_v + 3.0 charge_v + h2o_v + 3.021815 h_v</p>\n",
       "                    <p style='text-align:right'>ADP C10H12N5O10P2 + 3.0 charge + 3.0 H+ + Phosphate --> ATP C10H12N5O13P3 + 3.0 charge + H2O H2O + 3.021815 H+</p>\n",
       "                </td>\n",
       "            </tr><tr>\n",
       "                <td><strong>GPR</strong></td><td>YBR127C and YDL185W and YEL027W and YEL051W and YGR020C and YHR026W and YHR039C_A and YKL080W and...</td>\n",
       "            </tr><tr>\n",
       "                <td><strong>Lower bound</strong></td><td>0.0</td>\n",
       "            </tr><tr>\n",
       "                <td><strong>Upper bound</strong></td><td>500</td>\n",
       "            </tr>\n",
       "        </table>\n",
       "        "
      ],
      "text/plain": [
       "<ThermoReaction ATPS3v at 0x304340190>"
      ]
     },
     "execution_count": 24,
     "metadata": {},
     "output_type": "execute_result"
    }
   ],
   "source": [
    "##ATPS3v\n",
    "tmodel.reactions.ATPS3v.transported_h = {'v': 3.0, 'c': -3.0}\n",
    "thermo_flux.tools.drg_tools.reaction_balance(tmodel.reactions.ATPS3v, balance_charge=True, balance_mg=False)\n",
    "tmodel.reactions.ATPS3v"
   ]
  },
  {
   "cell_type": "code",
   "execution_count": 25,
   "metadata": {},
   "outputs": [],
   "source": [
    "#DOLPMTcer involved chemcial transformation of dolp. We assume transport of dolmanp for thermodynamic calcualtion\n",
    "tmodel.reactions.DOLPMTcer.transported_mets = {tmodel.metabolites.dolmanp_r: -1}\n",
    "thermo_flux.tools.drg_tools.reaction_balance(tmodel.reactions.DOLPMTcer, balance_charge=True, balance_mg=False)\n",
    "\n"
   ]
  },
  {
   "cell_type": "code",
   "execution_count": 26,
   "metadata": {},
   "outputs": [],
   "source": [
    "#change max flux to 500 for all reactions\n",
    "\n",
    "tmodel.reactions.get_by_id(\"biomass_EX\").bounds = (0,500)\n",
    "tmodel.reactions.get_by_id(\"biomass_c\").bounds = (0,500)\n",
    "tmodel.reactions.get_by_id(\"biomass_ce\").bounds = (0,500)\n",
    "\n",
    "\n",
    "for rxn in tmodel.reactions:\n",
    "    rxn.lower_bound = -500 if rxn.lower_bound == -1000 else rxn.lower_bound\n",
    "    rxn.upper_bound = 500 if rxn.upper_bound == 1000 else rxn.upper_bound\n",
    "tmodel.objective = tmodel.reactions.biomass_EX"
   ]
  },
  {
   "cell_type": "markdown",
   "metadata": {},
   "source": [
    "### Step 6 - Calculation of Gibbs energy of reactions\n",
    "Add thermodynamic constraints and parameters"
   ]
  },
  {
   "cell_type": "code",
   "execution_count": 27,
   "metadata": {},
   "outputs": [
    {
     "name": "stdout",
     "output_type": "stream",
     "text": [
      "Identifying compounds...\n",
      "[████████████████████████████████........] 1015/1244 sucr_c                                                                                                                                                                                   \r"
     ]
    },
    {
     "name": "stderr",
     "output_type": "stream",
     "text": [
      "WARNING: dolichol_c has inconsistent formula with eQuilibrator identified metabolite. COBRA:{'C': 15, 'H': 28, 'O': 1}, eQuilibrator:{'C': 25, 'O': 1}. Defining as unknown compound\n",
      "WARNING: dolmanp_r has inconsistent formula with eQuilibrator identified metabolite. COBRA:{'C': 21, 'H': 38, 'O': 9, 'P': 1}, eQuilibrator:{'C': 31, 'O': 9, 'P': 1}. Defining as unknown compound\n",
      "WARNING: glycogen_c has inconsistent formula with eQuilibrator identified metabolite. COBRA:{'C': 6, 'H': 10, 'O': 5}, eQuilibrator:{'O': 21, 'C': 24}. Defining as unknown compound\n",
      "WARNING: glycogen_v has inconsistent formula with eQuilibrator identified metabolite. COBRA:{'C': 6, 'H': 10, 'O': 5}, eQuilibrator:{'O': 21, 'C': 24}. Defining as unknown compound\n",
      "WARNING: mhpglu_c has inconsistent formula with eQuilibrator identified metabolite. COBRA:{'C': 25, 'H': 36, 'N': 8, 'O': 12}, eQuilibrator:{'C': 30, 'N': 9, 'O': 12}. Defining as unknown compound\n",
      "WARNING: macchitppdol_g has inconsistent formula with eQuilibrator identified metabolite. COBRA:{'C': 37, 'H': 64, 'N': 2, 'O': 22, 'P': 2}, eQuilibrator:{'C': 47, 'O': 22, 'P': 2, 'N': 2}. Defining as unknown compound\n",
      "WARNING: hpglu_c has inconsistent formula with eQuilibrator identified metabolite. COBRA:{'C': 24, 'H': 34, 'N': 8, 'O': 12}, eQuilibrator:{'N': 9, 'C': 29, 'O': 12}. Defining as unknown compound\n"
     ]
    },
    {
     "name": "stdout",
     "output_type": "stream",
     "text": [
      "[████████████████████████████████████████] 1244/1244 Mg_n                                                                                                                                                                                                                                   \n",
      "\n",
      "Estimating dfG0'...\n"
     ]
    },
    {
     "name": "stderr",
     "output_type": "stream",
     "text": [
      "WARNING: trdox_c has inconsistent formula with eQuilibrator identified metabolite. COBRA:{'X': 1}, eQuilibrator:{'N': 4, 'C': 10, 'S': 2, 'O': 4}. Defining as unknown compound\n",
      "WARNING: trdox_m has inconsistent formula with eQuilibrator identified metabolite. COBRA:{'X': 1}, eQuilibrator:{'N': 4, 'C': 10, 'S': 2, 'O': 4}. Defining as unknown compound\n",
      "WARNING: trdox_n has inconsistent formula with eQuilibrator identified metabolite. COBRA:{'X': 1}, eQuilibrator:{'N': 4, 'C': 10, 'S': 2, 'O': 4}. Defining as unknown compound\n",
      "WARNING: trdox_x has inconsistent formula with eQuilibrator identified metabolite. COBRA:{'X': 1}, eQuilibrator:{'N': 4, 'C': 10, 'S': 2, 'O': 4}. Defining as unknown compound\n",
      "WARNING: trdrd_c has inconsistent formula with eQuilibrator identified metabolite. COBRA:{'X': 1, 'H': 2}, eQuilibrator:{'N': 4, 'C': 10, 'S': 2, 'O': 4}. Defining as unknown compound\n",
      "WARNING: trdrd_m has inconsistent formula with eQuilibrator identified metabolite. COBRA:{'X': 1, 'H': 2}, eQuilibrator:{'N': 4, 'C': 10, 'S': 2, 'O': 4}. Defining as unknown compound\n",
      "WARNING: trdrd_n has inconsistent formula with eQuilibrator identified metabolite. COBRA:{'X': 1, 'H': 2}, eQuilibrator:{'N': 4, 'C': 10, 'S': 2, 'O': 4}. Defining as unknown compound\n",
      "WARNING: trdrd_x has inconsistent formula with eQuilibrator identified metabolite. COBRA:{'X': 1, 'H': 2}, eQuilibrator:{'N': 4, 'C': 10, 'S': 2, 'O': 4}. Defining as unknown compound\n"
     ]
    },
    {
     "name": "stdout",
     "output_type": "stream",
     "text": [
      "ficytc_m 0 kilojoule / mole\n",
      "focytc_m 0 kilojoule / mole\n",
      "biomass_c 0 kilojoule / mole\n",
      "biomass_e 0 kilojoule / mole\n",
      "[████████████████████████████████████████] 1244/1244 Mg_n                                                                                                                                                                                                                                                                                                                                                                                                                                                                                                                                                                                                                                                                                                                                                                                                                                                                                        \n",
      "\n",
      "Estimating drG0'...\n",
      "[████████████████........................] 661/1595 FA141ACPtm                                                                                                                                                                                                                                                                    \r"
     ]
    },
    {
     "name": "stderr",
     "output_type": "stream",
     "text": [
      "WARNING: DXHPScm is a transporter but no transported metabolites could be automatically identified. Please update the reaction.transported_mets\n",
      "WARNING: D_LACDcm is a transporter but no transported metabolites could be automatically identified. Please update the reaction.transported_mets\n"
     ]
    },
    {
     "name": "stdout",
     "output_type": "stream",
     "text": [
      "[█████████████████████████████...........] 1168/1595 NMNt2m                                                                                                                                                                                                                     \r"
     ]
    },
    {
     "name": "stderr",
     "output_type": "stream",
     "text": [
      "WARNING: L_LACD2cm is a transporter but no transported metabolites could be automatically identified. Please update the reaction.transported_mets\n"
     ]
    },
    {
     "name": "stdout",
     "output_type": "stream",
     "text": [
      "[████████████████████████████████████████] 1595/1595 PIt2v0                                                                                                                                                                                                                                                 \n",
      "\n"
     ]
    },
    {
     "data": {
      "text/html": [
       "<div>\n",
       "<style scoped>\n",
       "    .dataframe tbody tr th:only-of-type {\n",
       "        vertical-align: middle;\n",
       "    }\n",
       "\n",
       "    .dataframe tbody tr th {\n",
       "        vertical-align: top;\n",
       "    }\n",
       "\n",
       "    .dataframe thead th {\n",
       "        text-align: right;\n",
       "    }\n",
       "</style>\n",
       "<table border=\"1\" class=\"dataframe\">\n",
       "  <thead>\n",
       "    <tr style=\"text-align: right;\">\n",
       "      <th></th>\n",
       "      <th>stoichiometry</th>\n",
       "      <th>balanced</th>\n",
       "      <th>transporter</th>\n",
       "      <th>transported_mets</th>\n",
       "      <th>transported_h</th>\n",
       "      <th>transported_charge</th>\n",
       "      <th>priority</th>\n",
       "    </tr>\n",
       "  </thead>\n",
       "  <tbody>\n",
       "    <tr>\n",
       "      <th>ASPOcm</th>\n",
       "      <td>asp__L_c + 2.0 charge_m + fad_m + h_m --&gt; 2.0 ...</td>\n",
       "      <td>True</td>\n",
       "      <td>True</td>\n",
       "      <td>None</td>\n",
       "      <td>{'m': 2.0, 'c': -2.0}</td>\n",
       "      <td>{'m': -2.0, 'c': 2.0}</td>\n",
       "      <td>True</td>\n",
       "    </tr>\n",
       "    <tr>\n",
       "      <th>ATPS</th>\n",
       "      <td>atp_c + charge_c + h2o_c + 0.259271 h_c --&gt; ad...</td>\n",
       "      <td>True</td>\n",
       "      <td>True</td>\n",
       "      <td>None</td>\n",
       "      <td>{'c': -1, 'e': 1}</td>\n",
       "      <td>None</td>\n",
       "      <td>True</td>\n",
       "    </tr>\n",
       "    <tr>\n",
       "      <th>NADH2_u6cm</th>\n",
       "      <td>2.0 charge_m + h_c + nadh_c + q6_m --&gt; 2.0 cha...</td>\n",
       "      <td>True</td>\n",
       "      <td>True</td>\n",
       "      <td>None</td>\n",
       "      <td>{'m': 2.0, 'c': -2.0}</td>\n",
       "      <td>{'m': -2.0, 'c': 2.0}</td>\n",
       "      <td>True</td>\n",
       "    </tr>\n",
       "    <tr>\n",
       "      <th>FRDcm</th>\n",
       "      <td>2.0 charge_c + fadh2_m + fum_c --&gt; 2.0 charge_...</td>\n",
       "      <td>True</td>\n",
       "      <td>True</td>\n",
       "      <td>None</td>\n",
       "      <td>{'m': -2.0, 'c': 2.0}</td>\n",
       "      <td>{'m': 2.0, 'c': -2.0}</td>\n",
       "      <td>True</td>\n",
       "    </tr>\n",
       "    <tr>\n",
       "      <th>DXHPScm</th>\n",
       "      <td>h2o_c + q6_m + spmd_c --&gt; 13dampp_c + 4abutn_c...</td>\n",
       "      <td>True</td>\n",
       "      <td>True</td>\n",
       "      <td>None</td>\n",
       "      <td>{'m': 2.0, 'c': -2.0}</td>\n",
       "      <td>None</td>\n",
       "      <td>True</td>\n",
       "    </tr>\n",
       "    <tr>\n",
       "      <th>...</th>\n",
       "      <td>...</td>\n",
       "      <td>...</td>\n",
       "      <td>...</td>\n",
       "      <td>...</td>\n",
       "      <td>...</td>\n",
       "      <td>...</td>\n",
       "      <td>...</td>\n",
       "    </tr>\n",
       "    <tr>\n",
       "      <th>EX_asn__L_e</th>\n",
       "      <td>asn__L_e --&gt;</td>\n",
       "      <td>False</td>\n",
       "      <td>False</td>\n",
       "      <td>None</td>\n",
       "      <td>None</td>\n",
       "      <td>None</td>\n",
       "      <td>False</td>\n",
       "    </tr>\n",
       "    <tr>\n",
       "      <th>EX_hdcea_e</th>\n",
       "      <td>hdcea_e --&gt;</td>\n",
       "      <td>False</td>\n",
       "      <td>False</td>\n",
       "      <td>None</td>\n",
       "      <td>None</td>\n",
       "      <td>None</td>\n",
       "      <td>False</td>\n",
       "    </tr>\n",
       "    <tr>\n",
       "      <th>EX_hdca_e</th>\n",
       "      <td>hdca_e --&gt;</td>\n",
       "      <td>False</td>\n",
       "      <td>False</td>\n",
       "      <td>None</td>\n",
       "      <td>None</td>\n",
       "      <td>None</td>\n",
       "      <td>False</td>\n",
       "    </tr>\n",
       "    <tr>\n",
       "      <th>EX_h_e</th>\n",
       "      <td>h_e &lt;=&gt;</td>\n",
       "      <td>False</td>\n",
       "      <td>False</td>\n",
       "      <td>None</td>\n",
       "      <td>None</td>\n",
       "      <td>None</td>\n",
       "      <td>False</td>\n",
       "    </tr>\n",
       "    <tr>\n",
       "      <th>PIt2v0</th>\n",
       "      <td>1.834306 h_c + pi_c &lt;=&gt; 1.137357 h_v + pi_v</td>\n",
       "      <td>True</td>\n",
       "      <td>True</td>\n",
       "      <td>None</td>\n",
       "      <td>{'c': -2.0, 'v': 2.0}</td>\n",
       "      <td>None</td>\n",
       "      <td>False</td>\n",
       "    </tr>\n",
       "  </tbody>\n",
       "</table>\n",
       "<p>1595 rows × 7 columns</p>\n",
       "</div>"
      ],
      "text/plain": [
       "                                                 stoichiometry  balanced  \\\n",
       "ASPOcm       asp__L_c + 2.0 charge_m + fad_m + h_m --> 2.0 ...      True   \n",
       "ATPS         atp_c + charge_c + h2o_c + 0.259271 h_c --> ad...      True   \n",
       "NADH2_u6cm   2.0 charge_m + h_c + nadh_c + q6_m --> 2.0 cha...      True   \n",
       "FRDcm        2.0 charge_c + fadh2_m + fum_c --> 2.0 charge_...      True   \n",
       "DXHPScm      h2o_c + q6_m + spmd_c --> 13dampp_c + 4abutn_c...      True   \n",
       "...                                                        ...       ...   \n",
       "EX_asn__L_e                                      asn__L_e -->      False   \n",
       "EX_hdcea_e                                        hdcea_e -->      False   \n",
       "EX_hdca_e                                          hdca_e -->      False   \n",
       "EX_h_e                                                h_e <=>      False   \n",
       "PIt2v0             1.834306 h_c + pi_c <=> 1.137357 h_v + pi_v      True   \n",
       "\n",
       "             transporter transported_mets          transported_h  \\\n",
       "ASPOcm              True             None  {'m': 2.0, 'c': -2.0}   \n",
       "ATPS                True             None      {'c': -1, 'e': 1}   \n",
       "NADH2_u6cm          True             None  {'m': 2.0, 'c': -2.0}   \n",
       "FRDcm               True             None  {'m': -2.0, 'c': 2.0}   \n",
       "DXHPScm             True             None  {'m': 2.0, 'c': -2.0}   \n",
       "...                  ...              ...                    ...   \n",
       "EX_asn__L_e        False             None                   None   \n",
       "EX_hdcea_e         False             None                   None   \n",
       "EX_hdca_e          False             None                   None   \n",
       "EX_h_e             False             None                   None   \n",
       "PIt2v0              True             None  {'c': -2.0, 'v': 2.0}   \n",
       "\n",
       "                transported_charge  priority  \n",
       "ASPOcm       {'m': -2.0, 'c': 2.0}      True  \n",
       "ATPS                          None      True  \n",
       "NADH2_u6cm   {'m': -2.0, 'c': 2.0}      True  \n",
       "FRDcm        {'m': 2.0, 'c': -2.0}      True  \n",
       "DXHPScm                       None      True  \n",
       "...                            ...       ...  \n",
       "EX_asn__L_e                   None     False  \n",
       "EX_hdcea_e                    None     False  \n",
       "EX_hdca_e                     None     False  \n",
       "EX_h_e                        None     False  \n",
       "PIt2v0                        None     False  \n",
       "\n",
       "[1595 rows x 7 columns]"
      ]
     },
     "execution_count": 27,
     "metadata": {},
     "output_type": "execute_result"
    }
   ],
   "source": [
    "### retrieve dfG0 values from equilibrator and add drG0 to the reactions in the model\n",
    "tmodel.update_thermo_info(fit_unknown_dfG0=False,search=True,report=True)\n"
   ]
  },
  {
   "cell_type": "markdown",
   "metadata": {},
   "source": [
    "### Step 7 - Establishment of the thermodynamic-stoichiometric solution space\n",
    "Note : In our curation of the iMM904 model, due to the limited information available for the membrane potential of organelles, we chose to allow the free leakage of ions (charges) across the membrane. \n",
    "Allowing free movement of charges between compartments prevents over-constraining the model to potentially incorrect information.\n",
    "For more detailed analysis of charge transport or models where more information is available on membrane physiology then a constraint on the second law could be added for these charge transport reactions.  "
   ]
  },
  {
   "cell_type": "code",
   "execution_count": 28,
   "metadata": {},
   "outputs": [
    {
     "name": "stdout",
     "output_type": "stream",
     "text": [
      "charge_ce False\n",
      "charge_ce True\n",
      "charge_cm False\n",
      "charge_cm True\n",
      "charge_cx False\n",
      "charge_cx True\n",
      "charge_cr False\n",
      "charge_cr True\n",
      "charge_cv False\n",
      "charge_cv True\n",
      "charge_cg False\n",
      "charge_cg True\n",
      "charge_cn False\n",
      "charge_cn True\n"
     ]
    }
   ],
   "source": [
    "#ignore snd for charge - simplification as we don't have accurate values for electrical potential in all the compartments\n",
    "for rxn in tmodel.reactions:\n",
    "    if 'charge' in rxn.id and 'EX' not in rxn.id:#charge reactions are constrained by 2nd law \n",
    "        print(rxn.id,rxn.ignore_snd)\n",
    "        rxn.ignore_snd=True\n",
    "        print(rxn.id,rxn.ignore_snd)\n",
    "        \n",
    "\n",
    "#tmodel.reactions.EX_charge.ignore_snd=True"
   ]
  },
  {
   "cell_type": "code",
   "execution_count": 29,
   "metadata": {},
   "outputs": [],
   "source": [
    "# Store the indices of all reactions -  it allows to easily link reaction id and reaction indexes\n",
    "\n",
    "map_rxn_id = {rxn.id: index for index, rxn in enumerate(tmodel.reactions)}\n",
    "\n",
    "map_met_id = {met.id: index for index, met in enumerate(tmodel.metabolites)}\n",
    "\n",
    "#good practice will be to save them in a separate csv file"
   ]
  },
  {
   "cell_type": "code",
   "execution_count": 30,
   "metadata": {},
   "outputs": [
    {
     "name": "stdout",
     "output_type": "stream",
     "text": [
      "Set parameter NonConvex to value 2\n",
      "Set parameter TimeLimit to value 10\n"
     ]
    }
   ],
   "source": [
    "# add the TFBA variables to the model\n",
    "tmodel.m = None #reset the gurobi model object in case you're re-running this cell \n",
    "tmodel.add_TFBA_variables(gdiss_constraint = True, sigmac_limit = (4000/tmodel.T.m), error_type = 'covariance',qnorm='sep_norm',alpha=0.95)\n",
    "tmodel.m.update()"
   ]
  },
  {
   "cell_type": "code",
   "execution_count": 31,
   "metadata": {},
   "outputs": [],
   "source": [
    "# # thermo_flux.solver.gurobi.model_start(tmodel,'fixed_dir_firstTFBA_ENS_8.sol', ignore_vars=['all'],fix_vars=['qm','fluxes'],fix='start')\n",
    "# thermo_flux.solver.gurobi.model_start(tmodel,'yeast_regression_d8.sol', ignore_vars=['all'],fix_vars=['qm'],fix='bound')\n"
   ]
  },
  {
   "cell_type": "code",
   "execution_count": 32,
   "metadata": {},
   "outputs": [
    {
     "name": "stdout",
     "output_type": "stream",
     "text": [
      "Set parameter IntFeasTol to value 1e-06\n",
      "Set parameter TimeLimit to value 60\n",
      "Gurobi Optimizer version 11.0.3 build v11.0.3rc0 (mac64[arm] - Darwin 25.0.0 25A362)\n",
      "\n",
      "CPU model: Apple M3 Max\n",
      "Thread count: 16 physical cores, 16 logical processors, using up to 16 threads\n",
      "\n",
      "Optimize a model with 16223 rows, 13556 columns and 351774 nonzeros\n",
      "Model fingerprint: 0x409180ce\n",
      "Model has 166 quadratic constraints\n",
      "Model has 489 general constraints\n",
      "Variable types: 11961 continuous, 1595 integer (1595 binary)\n",
      "Coefficient statistics:\n",
      "  Matrix range     [6e-06, 1e+06]\n",
      "  QMatrix range    [1e+00, 1e+00]\n",
      "  QLMatrix range   [1e+00, 1e+00]\n",
      "  Objective range  [1e+00, 1e+00]\n",
      "  Bounds range     [1e+00, 1e+06]\n",
      "  RHS range        [7e-15, 1e+06]\n",
      "Presolve removed 9775 rows and 7412 columns\n",
      "Presolve time: 0.43s\n",
      "Presolved: 6792 rows, 6144 columns, 292971 nonzeros\n",
      "Presolved model has 86 bilinear constraint(s)\n",
      "\n",
      "Solving non-convex MIQCP\n",
      "\n",
      "Variable types: 4837 continuous, 1307 integer (1307 binary)\n",
      "\n",
      "Root relaxation: objective 1.392078e+00, 4080 iterations, 0.13 seconds (0.29 work units)\n",
      "\n",
      "    Nodes    |    Current Node    |     Objective Bounds      |     Work\n",
      " Expl Unexpl |  Obj  Depth IntInf | Incumbent    BestBd   Gap | It/Node Time\n",
      "\n",
      "     0     0    1.39208    0   48          -    1.39208      -     -    1s\n",
      "     0     0    0.94499    0   54          -    0.94499      -     -    1s\n",
      "     0     0    0.94499    0   52          -    0.94499      -     -    1s\n",
      "     0     0    0.94499    0   50          -    0.94499      -     -    1s\n",
      "     0     0    0.94468    0   50          -    0.94468      -     -    1s\n",
      "H    0     0                      -0.0000000    0.94468      -     -    1s\n",
      "     0     0    0.94468    0   25   -0.00000    0.94468      -     -    3s\n",
      "     0     0    0.94468    0   24   -0.00000    0.94468      -     -    3s\n",
      "     0     0    0.94468    0   23   -0.00000    0.94468      -     -    3s\n",
      "     0     0    0.94468    0   24   -0.00000    0.94468      -     -    4s\n",
      "     0     0    0.94468    0   19   -0.00000    0.94468      -     -    5s\n",
      "     0     0    0.94468    0   17   -0.00000    0.94468      -     -    5s\n",
      "     0     0    0.94468    0   17   -0.00000    0.94468      -     -    5s\n",
      "     0     0    0.94468    0   16   -0.00000    0.94468      -     -    6s\n",
      "     0     0    0.94468    0   15   -0.00000    0.94468      -     -    6s\n",
      "     0     0    0.94468    0   16   -0.00000    0.94468      -     -    6s\n",
      "     0     0    0.94468    0   16   -0.00000    0.94468      -     -    6s\n",
      "     0     0    0.94468    0   13   -0.00000    0.94468      -     -    7s\n",
      "     0     0    0.94468    0   13   -0.00000    0.94468      -     -    7s\n",
      "     0     0    0.94468    0   13   -0.00000    0.94468      -     -    7s\n",
      "     0     0    0.94468    0   13   -0.00000    0.94468      -     -    7s\n",
      "     0     0    0.94468    0   15   -0.00000    0.94468      -     -    8s\n",
      "     0     2    0.94468    0   15   -0.00000    0.94468      -     -   10s\n",
      "H   36    27                       0.0000000    0.94468      -  86.1   11s\n",
      "* 1403   957              78       0.1984106    0.94468   376%  29.8   13s\n",
      "* 1658  1031              85       0.1988542    0.94468   375%  30.2   13s\n",
      "* 2025  1308              95       0.1988546    0.94468   375%  32.8   14s\n",
      "* 2123  1045              80       0.2024366    0.94468   367%  34.2   14s\n",
      "  2417  1209    0.92680   85    9    0.20244    0.94468   367%  35.6   21s\n",
      "  2420  1211    0.93427   84   21    0.20244    0.94468   367%  35.5   26s\n",
      "H 2421  1151                       0.2024366    0.94468   367%  35.5   30s\n",
      "H 2424  1095                       0.2025042    0.94468   366%  35.5   33s\n",
      "  2428  1097    0.87773   61    7    0.20250    0.94334   366%  35.4   36s\n",
      "  2437  1103    0.22700   18    4    0.20250    0.93879   364%  35.3   40s\n",
      "  2441  1106    0.88339   58    9    0.20250    0.93808   363%  35.2   45s\n",
      "  2987  1423    0.86952   33   20    0.20250    0.93808   363%  56.9   51s\n",
      "  3437  1607    0.86700   46   20    0.20250    0.93808   363%  79.3   55s\n",
      "* 3565  1590              88       0.2026045    0.93808   363%  90.4   56s\n",
      "* 3604  1524              88       0.2030396    0.93808   362%  97.0   56s\n",
      "* 3609  1473              89       0.2030396    0.93808   362%  96.9   56s\n",
      "  3924  1505    0.60852   56   40    0.20304    0.93808   362%   113   60s\n",
      "\n",
      "Cutting planes:\n",
      "  Learned: 181\n",
      "  Gomory: 8\n",
      "  Cover: 17\n",
      "  Implied bound: 106\n",
      "  Projected implied bound: 2\n",
      "  Clique: 1\n",
      "  MIR: 113\n",
      "  Mixing: 51\n",
      "  Flow cover: 504\n",
      "  Network: 1\n",
      "  RLT: 116\n",
      "  Relax-and-lift: 7\n",
      "  BQP: 1\n",
      "\n",
      "Explored 4054 nodes (476157 simplex iterations) in 60.03 seconds (147.59 work units)\n",
      "Thread count was 16 (of 16 available processors)\n",
      "\n",
      "Solution count 10: 0.20304 0.20304 0.202604 ... 1.1777e-08\n",
      "\n",
      "Time limit reached\n",
      "Best objective 2.030395953145e-01, best bound 9.380777522001e-01, gap 362.0172%\n"
     ]
    }
   ],
   "source": [
    "import thermo_flux.solver\n",
    "import thermo_flux.solver.gurobi\n",
    "\n",
    "\n",
    "tmodel.m.params.NonConvex=2\n",
    "tmodel.m.params.IntFeasTol=1e-6\n",
    "tmodel.m.params.OptimalityTol=1e-6\n",
    "tmodel.m.params.TimeLimit=60*1 #1 minute\n",
    "\n",
    "\n",
    "tmodel.m.optimize()\n",
    "# thermo_flux.solver.gurobi.compute_IIS(tmodel)"
   ]
  },
  {
   "cell_type": "code",
   "execution_count": 21,
   "metadata": {},
   "outputs": [],
   "source": [
    "##saving model in mps format\n",
    "# tmodel.m.write('fixed_dir_firstTFBA_ENS_9.mps')\n",
    "# ## and solution (all variables final values) in .sol format\n",
    "# tmodel.m.write('fixed_dir_firstTFBA_ENS_9.sol')"
   ]
  },
  {
   "cell_type": "markdown",
   "metadata": {},
   "source": [
    "## Running TFBA without fixing qm (drG_error) is (i) much longer and (ii) less accurate, because the model can tune drG_error values to maximize growth.\n",
    "To fix this issue, we will run a regression to experimental data in the part 2, forcing the model to provide a set drG_error values that matches the data."
   ]
  },
  {
   "cell_type": "markdown",
   "metadata": {},
   "source": [
    "### First we load the regression data (from Canelas et al., 2011.)\n",
    "The regression data must be in a specific format before it can be used in the regression function. We process the input dataframe "
   ]
  },
  {
   "cell_type": "code",
   "execution_count": 33,
   "metadata": {},
   "outputs": [],
   "source": [
    "reg_data = hl.excel_to_df(f'{INPUT_FOLDER}/FLUX_CONC_data_Canelas_yeast.xlsx')\n",
    "##first process flux data\n",
    "reg_data['dvmeas'] = reg_data['dvmeas'].reset_index()\n",
    "reg_data['dvmeas'].columns = ['cond','rxn','mean_sd','Value']\n",
    "reg_data['dvmeas'] = reg_data['dvmeas'].replace({'biomass':'biomass_EX'})\n",
    "reg_data['dvmeas'] = reg_data['dvmeas'].pivot(index=['cond', 'rxn'], columns='mean_sd', values='Value').rename_axis(None, axis=1)\n",
    "flux_data = reg_data['dvmeas']\n",
    "##then process metabolite data\n",
    "reg_data['dmetsmeas'] = reg_data['dmetsmeas'].reset_index()\n",
    "reg_data['dmetsmeas'].columns = ['cond','met','mean_sd','Value']\n",
    "reg_data['dmetsmeas'] = reg_data['dmetsmeas'].pivot(index=['cond', 'met'], columns='mean_sd', values='Value').rename_axis(None, axis=1)\n",
    "metabolite_data = reg_data['dmetsmeas']\n",
    "###We can select the conditions that we are going to use\n",
    "conditions = reg_data[('cond')].index.to_list()\n",
    "###for this example, we will regress to the last condition only.\n",
    "conditions = conditions[-1:]\n",
    "##To fit whole cell concentration data we also attribute relative volume fractions to each compartment\n",
    "volume_data = pd.DataFrame({cond: {'c': 0.925, 'm': 0.075} for cond in conditions}).T ## here cytosol is 92.5% and mitochondria is 7.5% of the cell volume\n",
    "\n",
    "### It is also possible to bound the concentration of extracellular metabolites to experimental values, in this case we would :\n",
    "# 1)load them\n",
    "# 2)bound either the tmodel metabolite concentration bounds\n",
    "# 3)or build the gurobi model and then bound the ln_conc variable for the corresponding metabolites"
   ]
  },
  {
   "cell_type": "code",
   "execution_count": 34,
   "metadata": {},
   "outputs": [],
   "source": [
    "flux_data.index = flux_data.index.set_levels([''.join(('EX_', str(level).replace('_EX', '_e'))) if 'biomass' not in str(level) else str(level) for level in flux_data.index.levels[1]], level=1)\n",
    "flux_data.index = flux_data.index.set_levels(flux_data.index.get_level_values(1).str.replace('EX_co2tot_e','EX_co2_e').unique(), level=1)\n",
    "#replace EX_glc-D_e with EX_glc__D_e\n",
    "flux_data.index = flux_data.index.set_levels(flux_data.index.get_level_values(1).str.replace('EX_glc-D_e','EX_glc__D_e').unique(), level=1)"
   ]
  },
  {
   "cell_type": "markdown",
   "metadata": {},
   "source": [
    "## then build the gurobi model and add fitting variables"
   ]
  },
  {
   "cell_type": "code",
   "execution_count": 35,
   "metadata": {},
   "outputs": [
    {
     "name": "stdout",
     "output_type": "stream",
     "text": [
      "Set parameter NonConvex to value 2\n",
      "Set parameter TimeLimit to value 10\n"
     ]
    }
   ],
   "source": [
    "# add the TFBA variables to the model\n",
    "tmodel.m = None #reset the gurobi model object in case you're re-running this cell \n",
    "tmodel.add_TFBA_variables(gdiss_constraint = False, sigmac_limit = (5000/tmodel.T.m), error_type = 'covariance',qnorm='sep_norm',alpha=0.95)\n",
    "##qnorm set to sep_norm uses indepedent bounds for each coefficient in qm and is MUCH faster than qnorm 2\n",
    "tmodel.m.update()"
   ]
  },
  {
   "cell_type": "code",
   "execution_count": 36,
   "metadata": {},
   "outputs": [],
   "source": [
    "###The regression function is : \n",
    "# 1) adding variables for whole cell concentration for metabolites that are in the metabolomics data \n",
    "# 2) adding constraints for the whole cell concentration and the corresponding compartmental concentrations\n",
    "# 3) modifies the objective of the gurobi model so that it is now maximizing biomass but\n",
    "# ## minimizing the sum of the squared residuals of the fluxes and concentrations\n",
    "\n",
    "tmodel.regression(conditions, flux_data, metabolite_data, volume_data,\n",
    "                   conc_fit=True, flux_fit=True, drG_fit=False, resnorm=1, qm_resnorm = 1,\n",
    "                   error_type='covariance', conc_units = 'mM')\n",
    "\n",
    "## to ensure good fit to extracellular fluxes, we can bound the exchange fluxes to the experimental values\n",
    "#make up lower and upper bounds from the confidence interval given the std\n",
    "CI=2.6\n",
    "flux_data['lb'] = flux_data['mean'] - CI*flux_data['sd']\n",
    "flux_data['ub'] = flux_data['mean'] + CI*flux_data['sd']\n",
    "\n",
    "##here we have build the gurobi model so we bound the flux variables v \n",
    "for cond_index,cond in enumerate(conditions):\n",
    "    flux_data_cond = flux_data.loc[cond]\n",
    "    for rxn_id in flux_data_cond.index:\n",
    "        idx_in_model = map_rxn_id[rxn_id]\n",
    "        #the mvars dictionary is a dictionary of dictionaries, the first key is the condition index, the second key is the reaction index\n",
    "        tmodel.mvars['v'][cond_index][idx_in_model].lb = flux_data_cond.loc[rxn_id,'lb']\n",
    "        tmodel.mvars['v'][cond_index][idx_in_model].ub = flux_data_cond.loc[rxn_id,'ub']\n",
    "    \n"
   ]
  },
  {
   "cell_type": "code",
   "execution_count": 37,
   "metadata": {},
   "outputs": [],
   "source": [
    "### to help with numerics, we can set a minimum abs threshold for the bounds and constraints\n",
    "threshold = 1e-6\n",
    "new_bound=0\n",
    "for var in tmodel.m.getVars():\n",
    "    if (abs(var.ub) < threshold) & (abs(var.ub) != 0):\n",
    "        var.ub = new_bound if var.ub >0 else -new_bound\n",
    "        # print(var.varName,var.ub)\n",
    "    if (abs(var.lb) < threshold) & (abs(var.lb) != 0):\n",
    "        var.lb = -new_bound if var.lb <0 else new_bound\n",
    "        # print(var.varName,var.lb)\n",
    "# Iterate over the constraints\n",
    "for constraint in tmodel.m.getConstrs():\n",
    "    # Get the RHS value\n",
    "    rhs_value = constraint.RHS\n",
    "\n",
    "    # Check if the RHS value is less than the threshold\n",
    "    if (abs(rhs_value) < threshold) & (rhs_value != 0):\n",
    "        constraint.RHS = new_bound if rhs_value >0 else -new_bound\n",
    "        # print(constraint.ConstrName,constraint.RHS)"
   ]
  },
  {
   "cell_type": "code",
   "execution_count": 38,
   "metadata": {},
   "outputs": [
    {
     "name": "stdout",
     "output_type": "stream",
     "text": [
      "Set parameter TimeLimit to value 300\n",
      "Set parameter FuncNonlinear to value 1\n",
      "Gurobi Optimizer version 11.0.3 build v11.0.3rc0 (mac64[arm] - Darwin 25.0.0 25A362)\n",
      "\n",
      "CPU model: Apple M3 Max\n",
      "Thread count: 16 physical cores, 16 logical processors, using up to 16 threads\n",
      "\n",
      "Optimize a model with 16395 rows, 13608 columns and 351949 nonzeros\n",
      "Model fingerprint: 0x7e27a288\n",
      "Model has 538 general constraints\n",
      "Variable types: 12013 continuous, 1595 integer (1595 binary)\n",
      "Coefficient statistics:\n",
      "  Matrix range     [6e-06, 1e+06]\n",
      "  Objective range  [1e+00, 1e+00]\n",
      "  Bounds range     [5e-02, 1e+06]\n",
      "  RHS range        [2e-06, 1e+06]\n",
      "Presolve removed 10480 rows and 7960 columns\n",
      "Presolve time: 0.55s\n",
      "Presolved: 6160 rows, 5649 columns, 274756 nonzeros\n",
      "Presolved model has 49 nonlinear constraint(s)\n",
      "\n",
      "Solving non-convex MINLP\n",
      "\n",
      "Variable types: 4466 continuous, 1183 integer (1183 binary)\n",
      "\n",
      "Root relaxation: objective 5.334620e+02, 3978 iterations, 0.21 seconds (0.60 work units)\n",
      "\n",
      "    Nodes    |    Current Node    |     Objective Bounds      |     Work\n",
      " Expl Unexpl |  Obj  Depth IntInf | Incumbent    BestBd   Gap | It/Node Time\n",
      "\n",
      "     0     0  533.46199    0   65          -  533.46199      -     -    1s\n",
      "     0     0  533.50673    0   69          -  533.50673      -     -    1s\n",
      "     0     0  537.86080    0   65          -  537.86080      -     -    1s\n",
      "     0     0  537.86080    0   72          -  537.86080      -     -    1s\n",
      "     0     0  537.86080    0   63          -  537.86080      -     -    2s\n",
      "     0     0  537.86080    0   63          -  537.86080      -     -    2s\n",
      "     0     0  537.86080    0   63          -  537.86080      -     -    2s\n",
      "     0     0  537.86080    0   62          -  537.86080      -     -    2s\n",
      "     0     0  537.86080    0   58          -  537.86080      -     -    3s\n",
      "     0     0  537.86080    0   58          -  537.86080      -     -    3s\n",
      "     0     0  537.86080    0   57          -  537.86080      -     -    4s\n",
      "     0     0  537.86080    0   53          -  537.86080      -     -    4s\n",
      "     0     0  537.86080    0   53          -  537.86080      -     -    4s\n",
      "     0     0  537.86080    0   52          -  537.86080      -     -    4s\n",
      "     0     0  537.86080    0   52          -  537.86080      -     -    4s\n",
      "     0     0  537.86080    0   54          -  537.86080      -     -    4s\n",
      "     0     0  537.86080    0   54          -  537.86080      -     -    4s\n",
      "H    0     0                     672.0182251  537.86080  20.0%     -    5s\n",
      "     0     0  537.86080    0   51  672.01823  537.86080  20.0%     -    5s\n",
      "     0     0  537.86080    0   51  672.01823  537.86080  20.0%     -    5s\n",
      "H    0     0                     604.9522993  537.86080  11.1%     -    6s\n",
      "     0     0  537.86080    0   53  604.95230  537.86080  11.1%     -    6s\n",
      "     0     0  537.86080    0   53  604.95230  537.86080  11.1%     -    6s\n",
      "     0     0  537.86080    0   51  604.95230  537.86080  11.1%     -    6s\n",
      "     0     0  537.86080    0   51  604.95230  537.86080  11.1%     -    7s\n",
      "H    0     0                     550.8921341  537.86080  2.37%     -   13s\n",
      "     0     1  537.86080    0   50  550.89213  537.86080  2.37%     -   13s\n",
      "   250   269  542.92282   23   46  550.89213  540.18011  1.94%  26.1   15s\n",
      "* 1163  1119              83     550.7193670  540.18011  1.91%  32.1   16s\n",
      "* 1176  1035              97     550.5844830  540.18011  1.89%  31.8   16s\n",
      "* 1317  1172              99     550.5612019  540.18011  1.89%  35.8   16s\n",
      "H 2368  1721                     549.4921807  540.18011  1.69%  41.6   20s\n",
      "H 2369  1721                     549.4608115  540.18011  1.69%  41.6   20s\n",
      "H 2372  1691                     549.4442325  540.18011  1.69%  41.7   20s\n",
      "H 2378  1691                     549.4431059  540.18011  1.69%  41.7   20s\n",
      "* 3425  2944              82     549.1815532  540.18011  1.64%  45.3   22s\n",
      "  3925  3566  549.10938   80    7  549.18155  540.18011  1.64%  45.2   25s\n",
      "* 4132  3330             150     548.4278115  540.18011  1.50%  44.8   25s\n",
      "* 4866  3177             160     545.5950998  540.18011  0.99%  44.3   26s\n",
      "* 4880  3145             170     545.5004061  540.18011  0.98%  44.2   26s\n",
      "H 5369  2185                     543.6967854  540.18011  0.65%  44.1   30s\n",
      "  5372  2116  541.38530   22   28  543.69679  540.18011  0.65%  44.1   37s\n",
      "H 5374  2012                     540.4486471  540.18011  0.05%  44.0   41s\n",
      "H 5379  1914                     540.2850255  540.28503  0.00%  44.0   45s\n",
      "\n",
      "Cutting planes:\n",
      "  Learned: 17\n",
      "  Gomory: 1\n",
      "  Cover: 6\n",
      "  Implied bound: 16\n",
      "  MIR: 7\n",
      "  Mixing: 1\n",
      "  StrongCG: 1\n",
      "  Flow cover: 30\n",
      "  RLT: 2\n",
      "  Relax-and-lift: 2\n",
      "  PSD: 1\n",
      "\n",
      "Explored 5379 nodes (259983 simplex iterations) in 45.51 seconds (81.86 work units)\n",
      "Thread count was 16 (of 16 available processors)\n",
      "\n",
      "Solution count 10: 540.285 540.449 543.697 ... 549.461\n",
      "\n",
      "Optimal solution found (tolerance 1.00e-04)\n",
      "Best objective 5.402850254785e+02, best bound 5.402850254785e+02, gap 0.0000%\n"
     ]
    }
   ],
   "source": [
    "### gurobi model parameters are set with the .params attributes\n",
    "tmodel.m.params.TimeLimit=60*5\n",
    "tmodel.m.params.FuncNonlinear=1 ##this parameter is essential for the accuracy of the exponential function (whole cell concentration) approximations\n",
    "tmodel.m.optimize()\n"
   ]
  },
  {
   "cell_type": "code",
   "execution_count": null,
   "metadata": {},
   "outputs": [],
   "source": [
    "## save the solution file, that we will later use to fix qm \n",
    "tmodel.m.write(f'yeast_regression_d8.sol')"
   ]
  },
  {
   "cell_type": "code",
   "execution_count": null,
   "metadata": {},
   "outputs": [],
   "source": [
    "### debug  by computing the minimal set of constraints that make the model infeasible (IIS)\n",
    "# thermo_flux.solver.gurobi.compute_IIS(tmodel)\n"
   ]
  },
  {
   "cell_type": "markdown",
   "metadata": {},
   "source": [
    "## Next we visualize the regression fits\n",
    "todo : make easy function to plot the regression fits"
   ]
  },
  {
   "cell_type": "code",
   "execution_count": 39,
   "metadata": {},
   "outputs": [
    {
     "data": {
      "text/html": [
       "<div>\n",
       "<style scoped>\n",
       "    .dataframe tbody tr th:only-of-type {\n",
       "        vertical-align: middle;\n",
       "    }\n",
       "\n",
       "    .dataframe tbody tr th {\n",
       "        vertical-align: top;\n",
       "    }\n",
       "\n",
       "    .dataframe thead th {\n",
       "        text-align: right;\n",
       "    }\n",
       "</style>\n",
       "<table border=\"1\" class=\"dataframe\">\n",
       "  <thead>\n",
       "    <tr style=\"text-align: right;\">\n",
       "      <th></th>\n",
       "      <th>level_0</th>\n",
       "      <th>rxn</th>\n",
       "      <th>mean</th>\n",
       "      <th>fitted</th>\n",
       "      <th>sd</th>\n",
       "      <th>residual</th>\n",
       "      <th>L2_residual</th>\n",
       "    </tr>\n",
       "  </thead>\n",
       "  <tbody>\n",
       "    <tr>\n",
       "      <th>d8_EX_o2_e</th>\n",
       "      <td>d8</td>\n",
       "      <td>EX_o2_e</td>\n",
       "      <td>-4.20</td>\n",
       "      <td>-5.056590</td>\n",
       "      <td>0.420</td>\n",
       "      <td>2.039499e+00</td>\n",
       "      <td>24.437307</td>\n",
       "    </tr>\n",
       "    <tr>\n",
       "      <th>d8_EX_co2_e</th>\n",
       "      <td>d8</td>\n",
       "      <td>EX_co2_e</td>\n",
       "      <td>18.10</td>\n",
       "      <td>20.258989</td>\n",
       "      <td>1.270</td>\n",
       "      <td>1.699991e+00</td>\n",
       "      <td>36.084293</td>\n",
       "    </tr>\n",
       "    <tr>\n",
       "      <th>d8_EX_glc__D_e</th>\n",
       "      <td>d8</td>\n",
       "      <td>EX_glc__D_e</td>\n",
       "      <td>-10.23</td>\n",
       "      <td>-10.872827</td>\n",
       "      <td>0.410</td>\n",
       "      <td>1.567870e+00</td>\n",
       "      <td>198.201144</td>\n",
       "    </tr>\n",
       "    <tr>\n",
       "      <th>d8_EX_glyc_e</th>\n",
       "      <td>d8</td>\n",
       "      <td>EX_glyc_e</td>\n",
       "      <td>0.06</td>\n",
       "      <td>0.060000</td>\n",
       "      <td>0.003</td>\n",
       "      <td>2.312965e-15</td>\n",
       "      <td>397.603600</td>\n",
       "    </tr>\n",
       "    <tr>\n",
       "      <th>d8_EX_ac_e</th>\n",
       "      <td>d8</td>\n",
       "      <td>EX_ac_e</td>\n",
       "      <td>0.67</td>\n",
       "      <td>0.670000</td>\n",
       "      <td>0.074</td>\n",
       "      <td>0.000000e+00</td>\n",
       "      <td>70.292362</td>\n",
       "    </tr>\n",
       "    <tr>\n",
       "      <th>...</th>\n",
       "      <td>...</td>\n",
       "      <td>...</td>\n",
       "      <td>...</td>\n",
       "      <td>...</td>\n",
       "      <td>...</td>\n",
       "      <td>...</td>\n",
       "      <td>...</td>\n",
       "    </tr>\n",
       "    <tr>\n",
       "      <th>d7_EX_co2_e</th>\n",
       "      <td>d7</td>\n",
       "      <td>EX_co2_e</td>\n",
       "      <td>14.00</td>\n",
       "      <td>NaN</td>\n",
       "      <td>0.980</td>\n",
       "      <td>NaN</td>\n",
       "      <td>NaN</td>\n",
       "    </tr>\n",
       "    <tr>\n",
       "      <th>d7_EX_etoh_e</th>\n",
       "      <td>d7</td>\n",
       "      <td>EX_etoh_e</td>\n",
       "      <td>8.70</td>\n",
       "      <td>NaN</td>\n",
       "      <td>0.505</td>\n",
       "      <td>NaN</td>\n",
       "      <td>NaN</td>\n",
       "    </tr>\n",
       "    <tr>\n",
       "      <th>d7_EX_glc__D_e</th>\n",
       "      <td>d7</td>\n",
       "      <td>EX_glc__D_e</td>\n",
       "      <td>-7.62</td>\n",
       "      <td>NaN</td>\n",
       "      <td>0.300</td>\n",
       "      <td>NaN</td>\n",
       "      <td>NaN</td>\n",
       "    </tr>\n",
       "    <tr>\n",
       "      <th>d7_EX_glyc_e</th>\n",
       "      <td>d7</td>\n",
       "      <td>EX_glyc_e</td>\n",
       "      <td>0.02</td>\n",
       "      <td>NaN</td>\n",
       "      <td>0.001</td>\n",
       "      <td>NaN</td>\n",
       "      <td>NaN</td>\n",
       "    </tr>\n",
       "    <tr>\n",
       "      <th>d7_EX_o2_e</th>\n",
       "      <td>d7</td>\n",
       "      <td>EX_o2_e</td>\n",
       "      <td>-5.00</td>\n",
       "      <td>NaN</td>\n",
       "      <td>0.500</td>\n",
       "      <td>NaN</td>\n",
       "      <td>NaN</td>\n",
       "    </tr>\n",
       "  </tbody>\n",
       "</table>\n",
       "<p>56 rows × 7 columns</p>\n",
       "</div>"
      ],
      "text/plain": [
       "               level_0          rxn   mean     fitted     sd      residual  \\\n",
       "d8_EX_o2_e          d8      EX_o2_e  -4.20  -5.056590  0.420  2.039499e+00   \n",
       "d8_EX_co2_e         d8     EX_co2_e  18.10  20.258989  1.270  1.699991e+00   \n",
       "d8_EX_glc__D_e      d8  EX_glc__D_e -10.23 -10.872827  0.410  1.567870e+00   \n",
       "d8_EX_glyc_e        d8    EX_glyc_e   0.06   0.060000  0.003  2.312965e-15   \n",
       "d8_EX_ac_e          d8      EX_ac_e   0.67   0.670000  0.074  0.000000e+00   \n",
       "...                ...          ...    ...        ...    ...           ...   \n",
       "d7_EX_co2_e         d7     EX_co2_e  14.00        NaN  0.980           NaN   \n",
       "d7_EX_etoh_e        d7    EX_etoh_e   8.70        NaN  0.505           NaN   \n",
       "d7_EX_glc__D_e      d7  EX_glc__D_e  -7.62        NaN  0.300           NaN   \n",
       "d7_EX_glyc_e        d7    EX_glyc_e   0.02        NaN  0.001           NaN   \n",
       "d7_EX_o2_e          d7      EX_o2_e  -5.00        NaN  0.500           NaN   \n",
       "\n",
       "                L2_residual  \n",
       "d8_EX_o2_e        24.437307  \n",
       "d8_EX_co2_e       36.084293  \n",
       "d8_EX_glc__D_e   198.201144  \n",
       "d8_EX_glyc_e     397.603600  \n",
       "d8_EX_ac_e        70.292362  \n",
       "...                     ...  \n",
       "d7_EX_co2_e             NaN  \n",
       "d7_EX_etoh_e            NaN  \n",
       "d7_EX_glc__D_e          NaN  \n",
       "d7_EX_glyc_e            NaN  \n",
       "d7_EX_o2_e              NaN  \n",
       "\n",
       "[56 rows x 7 columns]"
      ]
     },
     "metadata": {},
     "output_type": "display_data"
    },
    {
     "data": {
      "image/png": "[encoded data removed]",
      "text/plain": [
       "<Figure size 640x480 with 1 Axes>"
      ]
     },
     "metadata": {},
     "output_type": "display_data"
    }
   ],
   "source": [
    "##flux fit plot\n",
    "##plot error bars \n",
    "#ax.errorbar(xd, yd, xerr=yerr, fmt='none', capsize=2, zorder=1,)\n",
    "mvars = tmodel.mvars\n",
    "\n",
    "mean_flux = flux_data.unstack(level=0)['mean']\n",
    "mean_flux = mean_flux.fillna(0)\n",
    "sd=flux_data.unstack(level=0)['sd']\n",
    "\n",
    "#get flux solution \n",
    "flux_df = pd.DataFrame(mvars['v'].getAttr(\"x\")).T\n",
    "flux_df['rxn_id'] = [rxn.id for rxn in tmodel.reactions]\n",
    "flux_df = flux_df.set_index('rxn_id')\n",
    "\n",
    "fitted_flux = flux_df.loc[mean_flux.index]\n",
    "fitted_flux.columns = conditions\n",
    "\n",
    "# sns.set(rc={\"figure.dpi\":100})\n",
    "# sns.set_theme(style=\"whitegrid\", palette=None)\n",
    "\n",
    "df = pd.concat([mean_flux, fitted_flux,sd], keys = ['mean', 'fitted','sd'], axis=0).unstack(level=1).T.reset_index()\n",
    "sns.scatterplot( x=\"mean\", y=\"fitted\", data=df, s=100,edgecolor='black').set(title='Flux regression')\n",
    "plt.plot([-12,20],[-12,20],linestyle='--', c=\".3\")\n",
    "# plt.legend(loc='lower right', title='Flux',bbox_to_anchor=(1.,0))\n",
    "plt.locator_params(nbins=4)\n",
    "plt.grid(False)#hide grid #show  axis in black \n",
    "plt.gca().spines[['bottom','left','top','right']].set_visible(True)\n",
    "plt.gca().spines[['bottom','left','top','right']].set_color('black')\n",
    "plt.xlabel('Measured value ($mmol.(L.h)^{-1}$)',fontsize=18)#x axis label and increase font size\n",
    "plt.ylabel('Fitted value ($mmol.(L.h)^{-1}$)',fontsize=18)\n",
    "plt.text(3,-10,'Extracellular fluxes',fontsize=18)#add text to the bottom right corner, aligned to the right\n",
    "plt.tick_params(axis='both', which='major', labelsize=16)#increase tick size\n",
    "plt.gca().yaxis.set_ticks_position('left')#show ticks only on bottom and left #show ticks inside the plot\n",
    "plt.gca().xaxis.set_ticks_position('bottom'); plt.tick_params(direction='in')\n",
    "# plt.text(145,10, 'Intracellular \\nconcentrations', fontsize=18,horizontalalignment='right')#add text to the bottom right corner, aligned to the right\n",
    "plt.xlim(-12,20)#start at 0\n",
    "plt.ylim(-12,20)\n",
    "pd.set_option('display.max_rows', 20)\n",
    "df['residual'] = abs((df['fitted'] - df['mean'])/df['sd'])\n",
    "df['L2_residual'] = (df['fitted'] - df['mean']/df['sd'])**2\n",
    "\n",
    "df.index=df['level_0']+'_'+df['rxn']\n",
    "display(df.sort_values(by='residual', ascending=False))\n",
    "\n",
    "df = pd.DataFrame(tmodel.solution().loc[[rxn.id for rxn in tmodel.boundary]][['v','condition']]).pivot( columns='condition', values='v')\n",
    "df.columns = conditions\n",
    "reg_fluxes = abs(df.T)\n",
    "\n",
    "# plt.savefig(f'{OUTPUT_FOLDER_PLOTS}reg+allconds_fluxfit.png',dpi=300,bbox_inches='tight')\n",
    "# plt.savefig(f'{OUTPUT_FOLDER_PLOTS}reg+allconds_fluxfit.svg',dpi=300,bbox_inches='tight')\n"
   ]
  },
  {
   "cell_type": "markdown",
   "metadata": {},
   "source": [
    "### we can also analyse the intracellular fluxes that match experimental data\n"
   ]
  },
  {
   "cell_type": "code",
   "execution_count": 40,
   "metadata": {},
   "outputs": [
    {
     "data": {
      "text/html": [
       "<div>\n",
       "<style scoped>\n",
       "    .dataframe tbody tr th:only-of-type {\n",
       "        vertical-align: middle;\n",
       "    }\n",
       "\n",
       "    .dataframe tbody tr th {\n",
       "        vertical-align: top;\n",
       "    }\n",
       "\n",
       "    .dataframe thead th {\n",
       "        text-align: right;\n",
       "    }\n",
       "</style>\n",
       "<table border=\"1\" class=\"dataframe\">\n",
       "  <thead>\n",
       "    <tr style=\"text-align: right;\">\n",
       "      <th></th>\n",
       "      <th>v</th>\n",
       "      <th>drG</th>\n",
       "      <th>Gdiss</th>\n",
       "      <th>drG0_prime</th>\n",
       "      <th>drG_error</th>\n",
       "      <th>drG_conc</th>\n",
       "      <th>b</th>\n",
       "      <th>condition</th>\n",
       "    </tr>\n",
       "    <tr>\n",
       "      <th>reaction</th>\n",
       "      <th></th>\n",
       "      <th></th>\n",
       "      <th></th>\n",
       "      <th></th>\n",
       "      <th></th>\n",
       "      <th></th>\n",
       "      <th></th>\n",
       "      <th></th>\n",
       "    </tr>\n",
       "  </thead>\n",
       "  <tbody>\n",
       "    <tr>\n",
       "      <th>EX_co2_e</th>\n",
       "      <td>20.258989</td>\n",
       "      <td>419.872747</td>\n",
       "      <td>8506.197266</td>\n",
       "      <td>386.000000</td>\n",
       "      <td>-5.746361</td>\n",
       "      <td>39.619108</td>\n",
       "      <td>1.0</td>\n",
       "      <td>0</td>\n",
       "    </tr>\n",
       "    <tr>\n",
       "      <th>EX_etoh_e</th>\n",
       "      <td>14.900000</td>\n",
       "      <td>42.478637</td>\n",
       "      <td>632.931690</td>\n",
       "      <td>0.438038</td>\n",
       "      <td>1.436272</td>\n",
       "      <td>40.604328</td>\n",
       "      <td>1.0</td>\n",
       "      <td>0</td>\n",
       "    </tr>\n",
       "    <tr>\n",
       "      <th>EX_h2o_e</th>\n",
       "      <td>9.833191</td>\n",
       "      <td>183.833490</td>\n",
       "      <td>1807.669747</td>\n",
       "      <td>178.571937</td>\n",
       "      <td>5.261553</td>\n",
       "      <td>0.000000</td>\n",
       "      <td>0.0</td>\n",
       "      <td>0</td>\n",
       "    </tr>\n",
       "    <tr>\n",
       "      <th>EX_h_e</th>\n",
       "      <td>2.023392</td>\n",
       "      <td>0.000000</td>\n",
       "      <td>0.000000</td>\n",
       "      <td>0.000000</td>\n",
       "      <td>0.000000</td>\n",
       "      <td>0.000000</td>\n",
       "      <td>0.0</td>\n",
       "      <td>0</td>\n",
       "    </tr>\n",
       "    <tr>\n",
       "      <th>EX_ac_e</th>\n",
       "      <td>0.670000</td>\n",
       "      <td>303.919236</td>\n",
       "      <td>203.625888</td>\n",
       "      <td>280.207210</td>\n",
       "      <td>0.372280</td>\n",
       "      <td>23.339745</td>\n",
       "      <td>1.0</td>\n",
       "      <td>0</td>\n",
       "    </tr>\n",
       "    <tr>\n",
       "      <th>biomass_EX</th>\n",
       "      <td>0.380000</td>\n",
       "      <td>1044.580041</td>\n",
       "      <td>396.940416</td>\n",
       "      <td>1044.580041</td>\n",
       "      <td>0.000000</td>\n",
       "      <td>0.000000</td>\n",
       "      <td>1.0</td>\n",
       "      <td>0</td>\n",
       "    </tr>\n",
       "    <tr>\n",
       "      <th>EX_glyc_e</th>\n",
       "      <td>0.060000</td>\n",
       "      <td>291.505137</td>\n",
       "      <td>17.490308</td>\n",
       "      <td>255.474224</td>\n",
       "      <td>-4.573415</td>\n",
       "      <td>40.604328</td>\n",
       "      <td>1.0</td>\n",
       "      <td>0</td>\n",
       "    </tr>\n",
       "    <tr>\n",
       "      <th>EX_epistest_SC_e</th>\n",
       "      <td>0.000000</td>\n",
       "      <td>-285183.047610</td>\n",
       "      <td>-0.000000</td>\n",
       "      <td>-89198.250392</td>\n",
       "      <td>-195996.398454</td>\n",
       "      <td>11.601237</td>\n",
       "      <td>0.0</td>\n",
       "      <td>0</td>\n",
       "    </tr>\n",
       "    <tr>\n",
       "      <th>EX_melib_e</th>\n",
       "      <td>0.000000</td>\n",
       "      <td>973.991147</td>\n",
       "      <td>0.000000</td>\n",
       "      <td>932.228460</td>\n",
       "      <td>1.158359</td>\n",
       "      <td>40.604328</td>\n",
       "      <td>0.0</td>\n",
       "      <td>0</td>\n",
       "    </tr>\n",
       "    <tr>\n",
       "      <th>EX_met__L_e</th>\n",
       "      <td>0.000000</td>\n",
       "      <td>20.979749</td>\n",
       "      <td>0.000000</td>\n",
       "      <td>-9.101255</td>\n",
       "      <td>1.543468</td>\n",
       "      <td>28.537536</td>\n",
       "      <td>0.0</td>\n",
       "      <td>0</td>\n",
       "    </tr>\n",
       "    <tr>\n",
       "      <th>EX_mmet_e</th>\n",
       "      <td>0.000000</td>\n",
       "      <td>-39.752042</td>\n",
       "      <td>-0.000000</td>\n",
       "      <td>-80.321250</td>\n",
       "      <td>-0.035120</td>\n",
       "      <td>40.604328</td>\n",
       "      <td>0.0</td>\n",
       "      <td>0</td>\n",
       "    </tr>\n",
       "    <tr>\n",
       "      <th>EX_na1_e</th>\n",
       "      <td>0.000000</td>\n",
       "      <td>-195975.255914</td>\n",
       "      <td>-0.000000</td>\n",
       "      <td>9.541304</td>\n",
       "      <td>-195996.398454</td>\n",
       "      <td>11.601237</td>\n",
       "      <td>0.0</td>\n",
       "      <td>0</td>\n",
       "    </tr>\n",
       "    <tr>\n",
       "      <th>EX_nac_e</th>\n",
       "      <td>0.000000</td>\n",
       "      <td>88.542245</td>\n",
       "      <td>0.000000</td>\n",
       "      <td>75.627185</td>\n",
       "      <td>1.313823</td>\n",
       "      <td>11.601237</td>\n",
       "      <td>0.0</td>\n",
       "      <td>0</td>\n",
       "    </tr>\n",
       "    <tr>\n",
       "      <th>EX_ser__L_e</th>\n",
       "      <td>0.000000</td>\n",
       "      <td>338.992939</td>\n",
       "      <td>0.000000</td>\n",
       "      <td>312.931904</td>\n",
       "      <td>-2.503339</td>\n",
       "      <td>28.564374</td>\n",
       "      <td>0.0</td>\n",
       "      <td>0</td>\n",
       "    </tr>\n",
       "    <tr>\n",
       "      <th>EX_sbt__L_e</th>\n",
       "      <td>0.000000</td>\n",
       "      <td>574.508084</td>\n",
       "      <td>0.000000</td>\n",
       "      <td>531.341739</td>\n",
       "      <td>2.562017</td>\n",
       "      <td>40.604328</td>\n",
       "      <td>0.0</td>\n",
       "      <td>0</td>\n",
       "    </tr>\n",
       "    <tr>\n",
       "      <th>EX_sbt__D_e</th>\n",
       "      <td>0.000000</td>\n",
       "      <td>567.741947</td>\n",
       "      <td>0.000000</td>\n",
       "      <td>528.193183</td>\n",
       "      <td>-1.055564</td>\n",
       "      <td>40.604328</td>\n",
       "      <td>0.0</td>\n",
       "      <td>0</td>\n",
       "    </tr>\n",
       "    <tr>\n",
       "      <th>EX_so3_e</th>\n",
       "      <td>0.000000</td>\n",
       "      <td>522.997728</td>\n",
       "      <td>0.000000</td>\n",
       "      <td>496.392058</td>\n",
       "      <td>5.746361</td>\n",
       "      <td>20.859309</td>\n",
       "      <td>0.0</td>\n",
       "      <td>0</td>\n",
       "    </tr>\n",
       "    <tr>\n",
       "      <th>EX_spmd_e</th>\n",
       "      <td>0.000000</td>\n",
       "      <td>-581.102700</td>\n",
       "      <td>-0.000000</td>\n",
       "      <td>-629.976753</td>\n",
       "      <td>8.269724</td>\n",
       "      <td>40.604328</td>\n",
       "      <td>0.0</td>\n",
       "      <td>0</td>\n",
       "    </tr>\n",
       "    <tr>\n",
       "      <th>EX_sprm_e</th>\n",
       "      <td>0.000000</td>\n",
       "      <td>-834.576626</td>\n",
       "      <td>-0.000000</td>\n",
       "      <td>-889.440896</td>\n",
       "      <td>14.259943</td>\n",
       "      <td>40.604328</td>\n",
       "      <td>0.0</td>\n",
       "      <td>0</td>\n",
       "    </tr>\n",
       "    <tr>\n",
       "      <th>EX_srb__L_e</th>\n",
       "      <td>0.000000</td>\n",
       "      <td>599.898012</td>\n",
       "      <td>0.000000</td>\n",
       "      <td>555.855830</td>\n",
       "      <td>3.937803</td>\n",
       "      <td>40.104379</td>\n",
       "      <td>0.0</td>\n",
       "      <td>0</td>\n",
       "    </tr>\n",
       "  </tbody>\n",
       "</table>\n",
       "</div>"
      ],
      "text/plain": [
       "                          v            drG        Gdiss    drG0_prime  \\\n",
       "reaction                                                                \n",
       "EX_co2_e          20.258989     419.872747  8506.197266    386.000000   \n",
       "EX_etoh_e         14.900000      42.478637   632.931690      0.438038   \n",
       "EX_h2o_e           9.833191     183.833490  1807.669747    178.571937   \n",
       "EX_h_e             2.023392       0.000000     0.000000      0.000000   \n",
       "EX_ac_e            0.670000     303.919236   203.625888    280.207210   \n",
       "biomass_EX         0.380000    1044.580041   396.940416   1044.580041   \n",
       "EX_glyc_e          0.060000     291.505137    17.490308    255.474224   \n",
       "EX_epistest_SC_e   0.000000 -285183.047610    -0.000000 -89198.250392   \n",
       "EX_melib_e         0.000000     973.991147     0.000000    932.228460   \n",
       "EX_met__L_e        0.000000      20.979749     0.000000     -9.101255   \n",
       "EX_mmet_e          0.000000     -39.752042    -0.000000    -80.321250   \n",
       "EX_na1_e           0.000000 -195975.255914    -0.000000      9.541304   \n",
       "EX_nac_e           0.000000      88.542245     0.000000     75.627185   \n",
       "EX_ser__L_e        0.000000     338.992939     0.000000    312.931904   \n",
       "EX_sbt__L_e        0.000000     574.508084     0.000000    531.341739   \n",
       "EX_sbt__D_e        0.000000     567.741947     0.000000    528.193183   \n",
       "EX_so3_e           0.000000     522.997728     0.000000    496.392058   \n",
       "EX_spmd_e          0.000000    -581.102700    -0.000000   -629.976753   \n",
       "EX_sprm_e          0.000000    -834.576626    -0.000000   -889.440896   \n",
       "EX_srb__L_e        0.000000     599.898012     0.000000    555.855830   \n",
       "\n",
       "                      drG_error   drG_conc    b  condition  \n",
       "reaction                                                    \n",
       "EX_co2_e              -5.746361  39.619108  1.0          0  \n",
       "EX_etoh_e              1.436272  40.604328  1.0          0  \n",
       "EX_h2o_e               5.261553   0.000000  0.0          0  \n",
       "EX_h_e                 0.000000   0.000000  0.0          0  \n",
       "EX_ac_e                0.372280  23.339745  1.0          0  \n",
       "biomass_EX             0.000000   0.000000  1.0          0  \n",
       "EX_glyc_e             -4.573415  40.604328  1.0          0  \n",
       "EX_epistest_SC_e -195996.398454  11.601237  0.0          0  \n",
       "EX_melib_e             1.158359  40.604328  0.0          0  \n",
       "EX_met__L_e            1.543468  28.537536  0.0          0  \n",
       "EX_mmet_e             -0.035120  40.604328  0.0          0  \n",
       "EX_na1_e         -195996.398454  11.601237  0.0          0  \n",
       "EX_nac_e               1.313823  11.601237  0.0          0  \n",
       "EX_ser__L_e           -2.503339  28.564374  0.0          0  \n",
       "EX_sbt__L_e            2.562017  40.604328  0.0          0  \n",
       "EX_sbt__D_e           -1.055564  40.604328  0.0          0  \n",
       "EX_so3_e               5.746361  20.859309  0.0          0  \n",
       "EX_spmd_e              8.269724  40.604328  0.0          0  \n",
       "EX_sprm_e             14.259943  40.604328  0.0          0  \n",
       "EX_srb__L_e            3.937803  40.104379  0.0          0  "
      ]
     },
     "metadata": {},
     "output_type": "display_data"
    }
   ],
   "source": [
    "sol=tmodel.solution()\n",
    "\n",
    "sol.loc[[r.id for r in tmodel.metabolites.get_by_id('pyr_c').reactions]]\n",
    "display(sol.loc[[r.id for r in tmodel.boundary]].sort_values(by='v',ascending=False).head(20))"
   ]
  },
  {
   "cell_type": "markdown",
   "metadata": {},
   "source": [
    "# In the third part, we will build the model and run TFBA like in notebook 1, except that the qm vector will have been fixed to the one obtained in notebook 2 (regression)\n",
    "In this manner, the TFBA simulations are much faster and better predict extracellular physiology. We can finally run simulation over several glucose uptake rates (GUR) in a GUR scan."
   ]
  },
  {
   "cell_type": "code",
   "execution_count": 41,
   "metadata": {},
   "outputs": [
    {
     "name": "stdout",
     "output_type": "stream",
     "text": [
      "Set parameter NonConvex to value 2\n",
      "Set parameter TimeLimit to value 10\n"
     ]
    }
   ],
   "source": [
    "# add the TFBA variables to the model\n",
    "tmodel.m = None #reset the gurobi model object in case you're re-running this cell \n",
    "tmodel.add_TFBA_variables(gdiss_constraint = True, sigmac_limit = (4000/tmodel.T.m), error_type = 'covariance',qnorm='sep_norm',alpha=0.95)\n",
    "tmodel.m.update()"
   ]
  },
  {
   "cell_type": "code",
   "execution_count": 42,
   "metadata": {},
   "outputs": [],
   "source": [
    "thermo_flux.solver.gurobi.model_start(tmodel,f'yeast_regression_d8.sol', ignore_vars=['all'],fix_vars=['qm'],fix='bound')\n"
   ]
  },
  {
   "cell_type": "code",
   "execution_count": 43,
   "metadata": {},
   "outputs": [
    {
     "name": "stdout",
     "output_type": "stream",
     "text": [
      "Set parameter IntFeasTol to value 1e-06\n",
      "Set parameter TimeLimit to value 60\n",
      "Gurobi Optimizer version 11.0.3 build v11.0.3rc0 (mac64[arm] - Darwin 25.0.0 25A362)\n",
      "\n",
      "CPU model: Apple M3 Max\n",
      "Thread count: 16 physical cores, 16 logical processors, using up to 16 threads\n",
      "\n",
      "Optimize a model with 16223 rows, 13556 columns and 351774 nonzeros\n",
      "Model fingerprint: 0x1af0badd\n",
      "Model has 166 quadratic constraints\n",
      "Model has 489 general constraints\n",
      "Variable types: 11961 continuous, 1595 integer (1595 binary)\n",
      "Coefficient statistics:\n",
      "  Matrix range     [6e-06, 1e+06]\n",
      "  QMatrix range    [1e+00, 1e+00]\n",
      "  QLMatrix range   [1e+00, 1e+00]\n",
      "  Objective range  [1e+00, 1e+00]\n",
      "  Bounds range     [8e-06, 1e+06]\n",
      "  RHS range        [7e-15, 1e+06]\n",
      "Presolve removed 11452 rows and 9120 columns\n",
      "Presolve time: 0.08s\n",
      "Presolved: 5083 rows, 4436 columns, 15292 nonzeros\n",
      "Presolved model has 78 bilinear constraint(s)\n",
      "\n",
      "Solving non-convex MIQCP\n",
      "\n",
      "Variable types: 3452 continuous, 984 integer (984 binary)\n",
      "\n",
      "Root relaxation: objective -0.000000e+00, 2605 iterations, 0.03 seconds (0.04 work units)\n",
      "\n",
      "    Nodes    |    Current Node    |     Objective Bounds      |     Work\n",
      " Expl Unexpl |  Obj  Depth IntInf | Incumbent    BestBd   Gap | It/Node Time\n",
      "\n",
      "     0     0   -0.00000    0   19          -   -0.00000      -     -    0s\n",
      "     0     0   -0.00000    0   23          -   -0.00000      -     -    0s\n",
      "     0     0   -0.00000    0   23          -   -0.00000      -     -    0s\n",
      "     0     0   -0.00000    0    7          -   -0.00000      -     -    0s\n",
      "     0     0   -0.00000    0    6          -   -0.00000      -     -    0s\n",
      "     0     0   -0.00000    0    6          -   -0.00000      -     -    0s\n",
      "     0     0   -0.00000    0   10          -   -0.00000      -     -    0s\n",
      "     0     0   -0.00000    0   10          -   -0.00000      -     -    0s\n",
      "H    0     0                      -0.0000000   -0.00000  0.00%     -    0s\n",
      "     0     0   -0.00000    0    2   -0.00000   -0.00000  0.00%     -    0s\n",
      "\n",
      "Cutting planes:\n",
      "  Learned: 27\n",
      "  Gomory: 4\n",
      "  Cover: 1\n",
      "  Implied bound: 3\n",
      "  MIR: 4\n",
      "  Flow cover: 12\n",
      "  Inf proof: 1\n",
      "  Network: 1\n",
      "  RLT: 1\n",
      "  Relax-and-lift: 2\n",
      "\n",
      "Explored 1 nodes (4037 simplex iterations) in 0.36 seconds (0.38 work units)\n",
      "Thread count was 16 (of 16 available processors)\n",
      "\n",
      "Solution count 1: -0 \n",
      "No other solutions better than -0\n",
      "\n",
      "Optimal solution found (tolerance 1.00e-04)\n",
      "Warning: max constraint violation (5.4617e-06) exceeds tolerance\n",
      "Warning: max bound violation (5.1804e-06) exceeds tolerance\n",
      "Best objective -0.000000000000e+00, best bound -0.000000000000e+00, gap 0.0000%\n"
     ]
    }
   ],
   "source": [
    "import thermo_flux.solver\n",
    "import thermo_flux.solver.gurobi\n",
    "\n",
    "\n",
    "tmodel.m.params.NonConvex=2\n",
    "tmodel.m.params.IntFeasTol=1e-6\n",
    "tmodel.m.params.OptimalityTol=1e-6\n",
    "tmodel.m.params.TimeLimit=60*1\n",
    "\n",
    "\n",
    "tmodel.m.optimize()\n",
    "# thermo_flux.solver.gurobi.compute_IIS(tmodel)"
   ]
  },
  {
   "cell_type": "code",
   "execution_count": 46,
   "metadata": {},
   "outputs": [
    {
     "name": "stdout",
     "output_type": "stream",
     "text": [
      "drG error term\n",
      "Ex: 80.55813383802655\n",
      "Int: -80.55783141042798\n",
      "Diff: 0.00030242759856946577\n",
      "\n",
      "\n",
      "RTlnC concentration term\n",
      "Ex: 118.7701627442853\n",
      "Int: -118.77016274428668\n",
      "Diff: -1.3784529073745944e-12\n",
      "\n",
      "\n",
      "drG0' term\n",
      "Ex: 1628.2294290203668\n",
      "Int: -1628.2294290203656\n",
      "Diff: 1.1368683772161603e-12\n",
      "\n",
      "\n",
      "drG0 term non-transformed\n",
      "Ex: 1628.2294636403058\n",
      "Int: -1628.2294636403058\n",
      "Diff: 0.0\n",
      "\n",
      "\n",
      "drG0' transform term\n",
      "Ex: 0.0\n",
      "Int: 0.0\n",
      "Diff: 0.0\n",
      "\n",
      "\n",
      "drG0' total transport term\n",
      "Ex: 0.0\n",
      "Int: -3.233578036088147e-05\n",
      "Diff: -3.233578036088147e-05\n",
      "\n",
      "\n",
      "drG0' charge transport term\n",
      "Ex: 0.0\n",
      "Int: -2.842170943040401e-14\n",
      "Diff: -2.842170943040401e-14\n",
      "\n",
      "\n",
      "drG0'proton transport term\n",
      "Ex: 0.0\n",
      "Int: -3.233578036088147e-05\n",
      "Diff: -3.233578036088147e-05\n"
     ]
    }
   ],
   "source": [
    "### contribution of different terms to the total gibbs energy dissipation rate\n",
    "thermo_flux.solver.gurobi.gdiss_model(tmodel)"
   ]
  },
  {
   "cell_type": "markdown",
   "metadata": {},
   "source": [
    "### below we do a GUR scan  and compare with FBA results"
   ]
  },
  {
   "cell_type": "code",
   "execution_count": 47,
   "metadata": {},
   "outputs": [
    {
     "name": "stdout",
     "output_type": "stream",
     "text": [
      "Set parameter NonConvex to value 2\n",
      "Set parameter TimeLimit to value 10\n",
      "Set parameter TimeLimit to value 300\n",
      "Gurobi Optimizer version 11.0.3 build v11.0.3rc0 (mac64[arm] - Darwin 25.0.0 25A362)\n",
      "\n",
      "CPU model: Apple M3 Max\n",
      "Thread count: 16 physical cores, 16 logical processors, using up to 16 threads\n",
      "\n",
      "Optimize a model with 16223 rows, 13556 columns and 351774 nonzeros\n",
      "Model fingerprint: 0x9f77a8bc\n",
      "Model has 166 quadratic constraints\n",
      "Model has 489 general constraints\n",
      "Variable types: 11961 continuous, 1595 integer (1595 binary)\n",
      "Coefficient statistics:\n",
      "  Matrix range     [6e-06, 1e+06]\n",
      "  QMatrix range    [1e+00, 1e+00]\n",
      "  QLMatrix range   [1e+00, 1e+00]\n",
      "  Objective range  [1e+00, 1e+00]\n",
      "  Bounds range     [8e-06, 1e+06]\n",
      "  RHS range        [7e-15, 1e+06]\n",
      "\n",
      "Solving a multi-scenario model with 20 scenarios...\n",
      "\n",
      "Presolve removed 11451 rows and 9119 columns\n",
      "Presolve time: 0.08s\n",
      "Presolved: 5087 rows, 4457 columns, 15354 nonzeros\n",
      "Presolved model has 78 bilinear constraint(s)\n",
      "Presolved model has 20 scenario(s)\n",
      "\n",
      "Solving non-convex MIQCP\n",
      "\n",
      "Variable types: 3453 continuous, 1004 integer (1004 binary)\n",
      "\n",
      "Root relaxation: objective -0.000000e+00, 2741 iterations, 0.04 seconds (0.05 work units)\n",
      "\n",
      "    Nodes    |    Current Node    |     Objective Bounds      |     Work\n",
      " Expl Unexpl |  Obj  Depth IntInf | Incumbent    BestBd   Gap | It/Node Time\n",
      "\n",
      "     0     0   -0.00000    0   21          -   -0.00000      -     -    0s\n",
      "     0     0   -0.00000    0   22          -   -0.00000      -     -    0s\n",
      "     0     0   -0.00000    0   23          -   -0.00000      -     -    0s\n",
      "     0     0   -0.00000    0    6          -   -0.00000      -     -    0s\n",
      "     0     0   -0.00000    0    6          -   -0.00000      -     -    0s\n",
      "     0     0   -0.00000    0    6          -   -0.00000      -     -    0s\n",
      "     0     0   -0.00000    0    6          -   -0.00000      -     -    0s\n",
      "     0     0   -0.00000    0    7          -   -0.00000      -     -    0s\n",
      "     0     0   -0.00000    0    8          -   -0.00000      -     -    0s\n",
      "     0     0   -0.00000    0    8          -   -0.00000      -     -    0s\n",
      "     0     0   -0.00000    0    8          -   -0.00000      -     -    0s\n",
      "     0     0   -0.00000    0    8          -   -0.00000      -     -    0s\n",
      "     0     2   -0.00000    0    8          -   -0.00000      -     -    0s\n",
      "*  321   360              25      -0.0000000   -0.00000  0.00%  29.6    0s\n",
      "Scenario 1 has been solved. 19/20 scenarios left.\n",
      "Scenario 19 has been solved. 18/20 scenarios left.\n",
      "\n",
      "Optimal solution found at node 524 - now completing multiple scenarios...\n",
      "\n",
      "    Nodes    |    Current Node    |    Scenario Obj. Bounds   |     Work\n",
      "             |                    |   Worst                   |\n",
      " Expl Unexpl |  Obj  Depth IntInf | Incumbent    BestBd   Gap | It/Node Time\n",
      "\n",
      "   524   584   -0.00000   24   16          -   -0.00000      -  25.4    0s\n",
      "Scenario 2 has been solved. 17/20 scenarios left.\n",
      "Scenario 3 has been solved. 16/20 scenarios left.\n",
      "Scenario 4 has been solved. 15/20 scenarios left.\n",
      "Scenario 5 has been solved. 14/20 scenarios left.\n",
      "Scenario 6 has been solved. 13/20 scenarios left.\n",
      "Scenario 7 has been solved. 12/20 scenarios left.\n",
      "Scenario 8 has been solved. 11/20 scenarios left.\n",
      "Scenario 9 has been solved. 10/20 scenarios left.\n",
      "Scenario 10 has been solved. 9/20 scenarios left.\n",
      "Scenario 11 has been solved. 8/20 scenarios left.\n",
      "Scenario 12 has been solved. 7/20 scenarios left.\n",
      "Scenario 13 has been solved. 6/20 scenarios left.\n",
      "Scenario 14 has been solved. 5/20 scenarios left.\n",
      "Scenario 15 has been solved. 4/20 scenarios left.\n",
      "Scenario 16 has been solved. 3/20 scenarios left.\n",
      "Scenario 17 has been solved. 2/20 scenarios left.\n",
      "Scenario 18 has been solved. 1/20 scenarios left.\n",
      "Scenario 0 has been solved. 0/20 scenarios left.\n",
      "\n",
      "Cutting planes:\n",
      "  Learned: 40\n",
      "  Gomory: 6\n",
      "  Implied bound: 17\n",
      "  MIR: 8\n",
      "  Flow cover: 16\n",
      "  Inf proof: 6\n",
      "  Network: 1\n",
      "  Relax-and-lift: 5\n",
      "\n",
      "Explored 1542 nodes (23323 simplex iterations) in 1.07 seconds (1.37 work units)\n",
      "Thread count was 16 (of 16 available processors)\n",
      "\n",
      "Solution count 10: -0 -0 -0 ... -0\n",
      "No other solutions better than -0\n",
      "\n",
      "Optimal solution found (tolerance 1.00e-04)\n",
      "Warning: max constraint violation (1.3840e-06) exceeds tolerance\n",
      "Warning: max bound violation (1.3840e-06) exceeds tolerance\n",
      "Best objective -0.000000000000e+00, best bound -0.000000000000e+00, gap 0.0000%\n"
     ]
    }
   ],
   "source": [
    "# add the TFBA variables to the model\n",
    "tmodel.m = None #reset the gurobi model object in case you're re-running this cell \n",
    "tmodel.add_TFBA_variables(gdiss_constraint = True, sigmac_limit = (3700/tmodel.T.m), error_type = 'covariance',qnorm='sep_norm',alpha=0.95)\n",
    "tmodel.m.update()\n",
    "tmodel.m.params.timelimit=60*5\n",
    "\n",
    "GUR_range = np.linspace(-0, -23, 20)\n",
    "\n",
    "thermo_flux.solver.gurobi.variable_scan(tmodel, GUR_range, var = tmodel.mvars['v'][0][tmodel.reactions.index(tmodel.reactions.get_by_id('EX_glc__D_e'))]) # here we get the index for the glucose uptake reaction and use this to index the v variable in the gurobi model\n",
    "thermo_flux.solver.gurobi.model_start(tmodel,'yeast_regression_d8.sol', ignore_vars=['all'],fix_vars=['qm'],fix='bound')\n",
    "\n",
    "tmodel.m.optimize()\n",
    "\n",
    "fluxes_gdiss = thermo_flux.solver.gurobi.multi_scenario_sol(tmodel,var = 'v') \n",
    "fluxes_gdiss= pd.DataFrame(fluxes_gdiss[0].T, index = [rxn.id for rxn in tmodel.reactions])"
   ]
  },
  {
   "cell_type": "code",
   "execution_count": 48,
   "metadata": {},
   "outputs": [
    {
     "name": "stderr",
     "output_type": "stream",
     "text": [
      "A value is trying to be set on a copy of a DataFrame or Series through chained assignment using an inplace method.\n",
      "The behavior will change in pandas 3.0. This inplace method will never work because the intermediate object on which we are setting values always behaves as a copy.\n",
      "\n",
      "For example, when doing 'df[col].method(value, inplace=True)', try using 'df.method({col: value}, inplace=True)' or df[col] = df[col].method(value) instead, to perform the operation inplace on the original object.\n",
      "\n",
      "\n"
     ]
    },
    {
     "data": {
      "text/plain": [
       "Text(0, 0.5, 'Biomass production rate (mmol/(gDW.h))')"
      ]
     },
     "execution_count": 48,
     "metadata": {},
     "output_type": "execute_result"
    },
    {
     "data": {
      "image/png": "[encoded data removed]",
      "text/plain": [
       "<Figure size 640x480 with 1 Axes>"
      ]
     },
     "metadata": {},
     "output_type": "display_data"
    }
   ],
   "source": [
    "#plot biomass yield for stoichiometric model with balanced reactions and pH specified\n",
    "df_data2 = pd.read_csv(f'{INPUT_FOLDER}plotting_Yeast_ALL_experimental_data.csv',index_col=0)\n",
    "df_data2['regression'].fillna('Not fitted',inplace=True)\n",
    "df_data2['regression'].replace('yes', 'Fitted', inplace=True)\n",
    "df_data2.rename(columns={'regression':'Exp. data'}, inplace=True)\n",
    "#rename index in Condition\n",
    "df_data2.index.rename('Condition', inplace=True)\n",
    "\n",
    "GUR_plot_range=[-x for x in GUR_range]\n",
    "#plot biomass vs GUR in a scatter plot\n",
    "\n",
    "sns.scatterplot(x=GUR_plot_range,y=fluxes_gdiss.loc['biomass_EX'],color='b',label='TFBA')\n",
    "sns.scatterplot(x=df_data2['glc-D_EX'], y=df_data2['biomass_EX'], color=['red'],label='Experimental data')\n",
    "\n",
    "plt.xlabel('Glucose uptake rate (mmol/(gDW.h))',fontsize=14)\n",
    "plt.ylabel('Biomass production rate (mmol/(gDW.h))',fontsize=14)\n",
    "\n",
    "\n"
   ]
  },
  {
   "cell_type": "code",
   "execution_count": null,
   "metadata": {},
   "outputs": [],
   "source": []
  },
  {
   "cell_type": "code",
   "execution_count": null,
   "metadata": {},
   "outputs": [],
   "source": []
  }
 ],
 "metadata": {
  "kernelspec": {
   "display_name": "thermoflux_03",
   "language": "python",
   "name": "python3"
  },
  "language_info": {
   "codemirror_mode": {
    "name": "ipython",
    "version": 3
   },
   "file_extension": ".py",
   "mimetype": "text/x-python",
   "name": "python",
   "nbconvert_exporter": "python",
   "pygments_lexer": "ipython3",
   "version": "3.11.10"
  }
 },
 "nbformat": 4,
 "nbformat_minor": 2
}
